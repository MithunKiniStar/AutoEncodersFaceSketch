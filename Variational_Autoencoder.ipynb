{
  "nbformat": 4,
  "nbformat_minor": 0,
  "metadata": {
    "colab": {
      "name": "Variational Autoencoder.ipynb",
      "provenance": [],
      "authorship_tag": "ABX9TyM2n45+856mw1sczO5N/T87",
      "include_colab_link": true
    },
    "kernelspec": {
      "name": "python3",
      "display_name": "Python 3"
    },
    "language_info": {
      "name": "python"
    },
    "accelerator": "GPU"
  },
  "cells": [
    {
      "cell_type": "markdown",
      "metadata": {
        "id": "view-in-github",
        "colab_type": "text"
      },
      "source": [
        "<a href=\"https://colab.research.google.com/github/MithunKiniStar/AutoEncodersFaceSketch/blob/main/Variational_Autoencoder.ipynb\" target=\"_parent\"><img src=\"https://colab.research.google.com/assets/colab-badge.svg\" alt=\"Open In Colab\"/></a>"
      ]
    },
    {
      "cell_type": "code",
      "source": [
        "!pip install keras==2.2.4\n",
        "!pip install tensorflow==1.13.1"
      ],
      "metadata": {
        "colab": {
          "base_uri": "https://localhost:8080/"
        },
        "id": "H3zvShavj_j-",
        "outputId": "9f8cbeef-9e44-436b-e613-a1358a36e2f9"
      },
      "execution_count": 3,
      "outputs": [
        {
          "output_type": "stream",
          "name": "stdout",
          "text": [
            "Collecting keras==2.2.4\n",
            "  Downloading Keras-2.2.4-py2.py3-none-any.whl (312 kB)\n",
            "\u001b[?25l\r\u001b[K     |█                               | 10 kB 18.9 MB/s eta 0:00:01\r\u001b[K     |██                              | 20 kB 9.5 MB/s eta 0:00:01\r\u001b[K     |███▏                            | 30 kB 8.3 MB/s eta 0:00:01\r\u001b[K     |████▏                           | 40 kB 7.8 MB/s eta 0:00:01\r\u001b[K     |█████▎                          | 51 kB 5.9 MB/s eta 0:00:01\r\u001b[K     |██████▎                         | 61 kB 7.0 MB/s eta 0:00:01\r\u001b[K     |███████▍                        | 71 kB 7.0 MB/s eta 0:00:01\r\u001b[K     |████████▍                       | 81 kB 6.5 MB/s eta 0:00:01\r\u001b[K     |█████████▍                      | 92 kB 7.2 MB/s eta 0:00:01\r\u001b[K     |██████████▌                     | 102 kB 7.1 MB/s eta 0:00:01\r\u001b[K     |███████████▌                    | 112 kB 7.1 MB/s eta 0:00:01\r\u001b[K     |████████████▋                   | 122 kB 7.1 MB/s eta 0:00:01\r\u001b[K     |█████████████▋                  | 133 kB 7.1 MB/s eta 0:00:01\r\u001b[K     |██████████████▊                 | 143 kB 7.1 MB/s eta 0:00:01\r\u001b[K     |███████████████▊                | 153 kB 7.1 MB/s eta 0:00:01\r\u001b[K     |████████████████▊               | 163 kB 7.1 MB/s eta 0:00:01\r\u001b[K     |█████████████████▉              | 174 kB 7.1 MB/s eta 0:00:01\r\u001b[K     |██████████████████▉             | 184 kB 7.1 MB/s eta 0:00:01\r\u001b[K     |████████████████████            | 194 kB 7.1 MB/s eta 0:00:01\r\u001b[K     |█████████████████████           | 204 kB 7.1 MB/s eta 0:00:01\r\u001b[K     |██████████████████████          | 215 kB 7.1 MB/s eta 0:00:01\r\u001b[K     |███████████████████████         | 225 kB 7.1 MB/s eta 0:00:01\r\u001b[K     |████████████████████████▏       | 235 kB 7.1 MB/s eta 0:00:01\r\u001b[K     |█████████████████████████▏      | 245 kB 7.1 MB/s eta 0:00:01\r\u001b[K     |██████████████████████████▏     | 256 kB 7.1 MB/s eta 0:00:01\r\u001b[K     |███████████████████████████▎    | 266 kB 7.1 MB/s eta 0:00:01\r\u001b[K     |████████████████████████████▎   | 276 kB 7.1 MB/s eta 0:00:01\r\u001b[K     |█████████████████████████████▍  | 286 kB 7.1 MB/s eta 0:00:01\r\u001b[K     |██████████████████████████████▍ | 296 kB 7.1 MB/s eta 0:00:01\r\u001b[K     |███████████████████████████████▌| 307 kB 7.1 MB/s eta 0:00:01\r\u001b[K     |████████████████████████████████| 312 kB 7.1 MB/s \n",
            "\u001b[?25hCollecting keras-applications>=1.0.6\n",
            "  Downloading Keras_Applications-1.0.8-py3-none-any.whl (50 kB)\n",
            "\u001b[?25l\r\u001b[K     |██████▌                         | 10 kB 36.5 MB/s eta 0:00:01\r\u001b[K     |█████████████                   | 20 kB 43.0 MB/s eta 0:00:01\r\u001b[K     |███████████████████▍            | 30 kB 47.8 MB/s eta 0:00:01\r\u001b[K     |█████████████████████████▉      | 40 kB 47.9 MB/s eta 0:00:01\r\u001b[K     |████████████████████████████████| 50 kB 6.9 MB/s \n",
            "\u001b[?25hRequirement already satisfied: keras-preprocessing>=1.0.5 in /usr/local/lib/python3.7/dist-packages (from keras==2.2.4) (1.1.2)\n",
            "Requirement already satisfied: pyyaml in /usr/local/lib/python3.7/dist-packages (from keras==2.2.4) (3.13)\n",
            "Requirement already satisfied: h5py in /usr/local/lib/python3.7/dist-packages (from keras==2.2.4) (3.1.0)\n",
            "Requirement already satisfied: numpy>=1.9.1 in /usr/local/lib/python3.7/dist-packages (from keras==2.2.4) (1.21.5)\n",
            "Requirement already satisfied: scipy>=0.14 in /usr/local/lib/python3.7/dist-packages (from keras==2.2.4) (1.4.1)\n",
            "Requirement already satisfied: six>=1.9.0 in /usr/local/lib/python3.7/dist-packages (from keras==2.2.4) (1.15.0)\n",
            "Requirement already satisfied: cached-property in /usr/local/lib/python3.7/dist-packages (from h5py->keras==2.2.4) (1.5.2)\n",
            "Installing collected packages: keras-applications, keras\n",
            "  Attempting uninstall: keras\n",
            "    Found existing installation: keras 2.8.0\n",
            "    Uninstalling keras-2.8.0:\n",
            "      Successfully uninstalled keras-2.8.0\n",
            "\u001b[31mERROR: pip's dependency resolver does not currently take into account all the packages that are installed. This behaviour is the source of the following dependency conflicts.\n",
            "tensorflow 2.8.0 requires tf-estimator-nightly==2.8.0.dev2021122109, which is not installed.\n",
            "tensorflow 2.8.0 requires keras<2.9,>=2.8.0rc0, but you have keras 2.2.4 which is incompatible.\u001b[0m\n",
            "Successfully installed keras-2.2.4 keras-applications-1.0.8\n",
            "Collecting tensorflow==1.13.1\n",
            "  Downloading tensorflow-1.13.1-cp37-cp37m-manylinux1_x86_64.whl (92.6 MB)\n",
            "\u001b[K     |████████████████████████████████| 92.6 MB 90 kB/s \n",
            "\u001b[?25hRequirement already satisfied: keras-applications>=1.0.6 in /usr/local/lib/python3.7/dist-packages (from tensorflow==1.13.1) (1.0.8)\n",
            "Requirement already satisfied: numpy>=1.13.3 in /usr/local/lib/python3.7/dist-packages (from tensorflow==1.13.1) (1.21.5)\n",
            "Requirement already satisfied: protobuf>=3.6.1 in /usr/local/lib/python3.7/dist-packages (from tensorflow==1.13.1) (3.17.3)\n",
            "Collecting tensorflow-estimator<1.14.0rc0,>=1.13.0\n",
            "  Downloading tensorflow_estimator-1.13.0-py2.py3-none-any.whl (367 kB)\n",
            "\u001b[K     |████████████████████████████████| 367 kB 50.9 MB/s \n",
            "\u001b[?25hRequirement already satisfied: absl-py>=0.1.6 in /usr/local/lib/python3.7/dist-packages (from tensorflow==1.13.1) (1.0.0)\n",
            "Requirement already satisfied: grpcio>=1.8.6 in /usr/local/lib/python3.7/dist-packages (from tensorflow==1.13.1) (1.43.0)\n",
            "Requirement already satisfied: termcolor>=1.1.0 in /usr/local/lib/python3.7/dist-packages (from tensorflow==1.13.1) (1.1.0)\n",
            "Requirement already satisfied: keras-preprocessing>=1.0.5 in /usr/local/lib/python3.7/dist-packages (from tensorflow==1.13.1) (1.1.2)\n",
            "Collecting tensorboard<1.14.0,>=1.13.0\n",
            "  Downloading tensorboard-1.13.1-py3-none-any.whl (3.2 MB)\n",
            "\u001b[K     |████████████████████████████████| 3.2 MB 40.7 MB/s \n",
            "\u001b[?25hRequirement already satisfied: wheel>=0.26 in /usr/local/lib/python3.7/dist-packages (from tensorflow==1.13.1) (0.37.1)\n",
            "Requirement already satisfied: six>=1.10.0 in /usr/local/lib/python3.7/dist-packages (from tensorflow==1.13.1) (1.15.0)\n",
            "Requirement already satisfied: gast>=0.2.0 in /usr/local/lib/python3.7/dist-packages (from tensorflow==1.13.1) (0.5.3)\n",
            "Requirement already satisfied: astor>=0.6.0 in /usr/local/lib/python3.7/dist-packages (from tensorflow==1.13.1) (0.8.1)\n",
            "Requirement already satisfied: h5py in /usr/local/lib/python3.7/dist-packages (from keras-applications>=1.0.6->tensorflow==1.13.1) (3.1.0)\n",
            "Requirement already satisfied: markdown>=2.6.8 in /usr/local/lib/python3.7/dist-packages (from tensorboard<1.14.0,>=1.13.0->tensorflow==1.13.1) (3.3.6)\n",
            "Requirement already satisfied: werkzeug>=0.11.15 in /usr/local/lib/python3.7/dist-packages (from tensorboard<1.14.0,>=1.13.0->tensorflow==1.13.1) (1.0.1)\n",
            "Requirement already satisfied: importlib-metadata>=4.4 in /usr/local/lib/python3.7/dist-packages (from markdown>=2.6.8->tensorboard<1.14.0,>=1.13.0->tensorflow==1.13.1) (4.11.0)\n",
            "Requirement already satisfied: zipp>=0.5 in /usr/local/lib/python3.7/dist-packages (from importlib-metadata>=4.4->markdown>=2.6.8->tensorboard<1.14.0,>=1.13.0->tensorflow==1.13.1) (3.7.0)\n",
            "Requirement already satisfied: typing-extensions>=3.6.4 in /usr/local/lib/python3.7/dist-packages (from importlib-metadata>=4.4->markdown>=2.6.8->tensorboard<1.14.0,>=1.13.0->tensorflow==1.13.1) (3.10.0.2)\n",
            "Collecting mock>=2.0.0\n",
            "  Downloading mock-4.0.3-py3-none-any.whl (28 kB)\n",
            "Requirement already satisfied: cached-property in /usr/local/lib/python3.7/dist-packages (from h5py->keras-applications>=1.0.6->tensorflow==1.13.1) (1.5.2)\n",
            "Installing collected packages: mock, tensorflow-estimator, tensorboard, tensorflow\n",
            "  Attempting uninstall: tensorflow-estimator\n",
            "    Found existing installation: tensorflow-estimator 2.8.0\n",
            "    Uninstalling tensorflow-estimator-2.8.0:\n",
            "      Successfully uninstalled tensorflow-estimator-2.8.0\n",
            "  Attempting uninstall: tensorboard\n",
            "    Found existing installation: tensorboard 2.8.0\n",
            "    Uninstalling tensorboard-2.8.0:\n",
            "      Successfully uninstalled tensorboard-2.8.0\n",
            "  Attempting uninstall: tensorflow\n",
            "    Found existing installation: tensorflow 2.8.0\n",
            "    Uninstalling tensorflow-2.8.0:\n",
            "      Successfully uninstalled tensorflow-2.8.0\n",
            "\u001b[31mERROR: pip's dependency resolver does not currently take into account all the packages that are installed. This behaviour is the source of the following dependency conflicts.\n",
            "kapre 0.3.7 requires tensorflow>=2.0.0, but you have tensorflow 1.13.1 which is incompatible.\u001b[0m\n",
            "Successfully installed mock-4.0.3 tensorboard-1.13.1 tensorflow-1.13.1 tensorflow-estimator-1.13.0\n"
          ]
        }
      ]
    },
    {
      "cell_type": "code",
      "source": [
        "import tensorflow as tf\n",
        "from tensorflow import keras\n",
        "from tensorflow.keras.layers import Input, Dense, Conv2D, MaxPooling2D, Conv2DTranspose, Flatten\n",
        "from tensorflow.keras.layers import Reshape, BatchNormalization, Lambda\n",
        "from tensorflow.keras.models import Model\n",
        "from tensorflow.keras import backend as K\n",
        "from tensorflow.keras.losses import binary_crossentropy\n",
        "from tensorflow.keras.callbacks import TensorBoard\n",
        "\n",
        "# reparameterization trick\n",
        "# instead of sampling from Q(z|X), sample epsilon = N(0,I)\n",
        "# z = z_mean + sqrt(var) * epsilon\n",
        "def sample_z(args):\n",
        "    \"\"\"Reparameterization trick by sampling from an isotropic unit Gaussian.\n",
        "\n",
        "    # Arguments\n",
        "        args (tensor): mean and log of variance of Q(z|X)\n",
        "\n",
        "    # Returns\n",
        "        z (tensor): sampled latent vector\n",
        "    \"\"\"\n",
        "    mu, sigma = args\n",
        "    batch     = K.shape(mu)[0]\n",
        "    dim       = K.int_shape(mu)[1]\n",
        "    # by default, random_normal has mean = 0 and std = 1.0\n",
        "    eps       = K.random_normal(shape=(batch, dim))\n",
        "    return mu + K.exp(sigma / 2) * eps"
      ],
      "metadata": {
        "id": "2NBxlp38tk_D",
        "outputId": "44c922a6-cdf9-47d4-9040-20c839660276",
        "colab": {
          "base_uri": "https://localhost:8080/"
        }
      },
      "execution_count": 4,
      "outputs": [
        {
          "output_type": "stream",
          "name": "stderr",
          "text": [
            "/usr/local/lib/python3.7/dist-packages/tensorflow/python/framework/dtypes.py:526: FutureWarning: Passing (type, 1) or '1type' as a synonym of type is deprecated; in a future version of numpy, it will be understood as (type, (1,)) / '(1,)type'.\n",
            "  _np_qint8 = np.dtype([(\"qint8\", np.int8, 1)])\n",
            "/usr/local/lib/python3.7/dist-packages/tensorflow/python/framework/dtypes.py:527: FutureWarning: Passing (type, 1) or '1type' as a synonym of type is deprecated; in a future version of numpy, it will be understood as (type, (1,)) / '(1,)type'.\n",
            "  _np_quint8 = np.dtype([(\"quint8\", np.uint8, 1)])\n",
            "/usr/local/lib/python3.7/dist-packages/tensorflow/python/framework/dtypes.py:528: FutureWarning: Passing (type, 1) or '1type' as a synonym of type is deprecated; in a future version of numpy, it will be understood as (type, (1,)) / '(1,)type'.\n",
            "  _np_qint16 = np.dtype([(\"qint16\", np.int16, 1)])\n",
            "/usr/local/lib/python3.7/dist-packages/tensorflow/python/framework/dtypes.py:529: FutureWarning: Passing (type, 1) or '1type' as a synonym of type is deprecated; in a future version of numpy, it will be understood as (type, (1,)) / '(1,)type'.\n",
            "  _np_quint16 = np.dtype([(\"quint16\", np.uint16, 1)])\n",
            "/usr/local/lib/python3.7/dist-packages/tensorflow/python/framework/dtypes.py:530: FutureWarning: Passing (type, 1) or '1type' as a synonym of type is deprecated; in a future version of numpy, it will be understood as (type, (1,)) / '(1,)type'.\n",
            "  _np_qint32 = np.dtype([(\"qint32\", np.int32, 1)])\n",
            "/usr/local/lib/python3.7/dist-packages/tensorflow/python/framework/dtypes.py:535: FutureWarning: Passing (type, 1) or '1type' as a synonym of type is deprecated; in a future version of numpy, it will be understood as (type, (1,)) / '(1,)type'.\n",
            "  np_resource = np.dtype([(\"resource\", np.ubyte, 1)])\n"
          ]
        }
      ]
    },
    {
      "cell_type": "code",
      "source": [
        "image_width  = 256\n",
        "image_height = 256\n",
        "latent_dim   = 2\n",
        "no_epochs    = 30\n",
        "batch_size   = 128\n",
        "num_channels = 3"
      ],
      "metadata": {
        "id": "m32acXUwt2VN"
      },
      "execution_count": 5,
      "outputs": []
    },
    {
      "cell_type": "code",
      "execution_count": 6,
      "metadata": {
        "colab": {
          "base_uri": "https://localhost:8080/"
        },
        "id": "QymTiGk4epvb",
        "outputId": "831272dc-f643-4bce-f402-c957dc78b26f"
      },
      "outputs": [
        {
          "output_type": "stream",
          "name": "stdout",
          "text": [
            "WARNING:tensorflow:From /usr/local/lib/python3.7/dist-packages/tensorflow/python/ops/resource_variable_ops.py:435: colocate_with (from tensorflow.python.framework.ops) is deprecated and will be removed in a future version.\n",
            "Instructions for updating:\n",
            "Colocations handled automatically by placer.\n",
            "__________________________________________________________________________________________________\n",
            "Layer (type)                    Output Shape         Param #     Connected to                     \n",
            "==================================================================================================\n",
            "encoder_input (InputLayer)      (None, 256, 256, 3)  0                                            \n",
            "__________________________________________________________________________________________________\n",
            "conv2d (Conv2D)                 (None, 128, 128, 32) 896         encoder_input[0][0]              \n",
            "__________________________________________________________________________________________________\n",
            "batch_normalization_v1 (BatchNo (None, 128, 128, 32) 128         conv2d[0][0]                     \n",
            "__________________________________________________________________________________________________\n",
            "conv2d_1 (Conv2D)               (None, 64, 64, 64)   18496       batch_normalization_v1[0][0]     \n",
            "__________________________________________________________________________________________________\n",
            "batch_normalization_v1_1 (Batch (None, 64, 64, 64)   256         conv2d_1[0][0]                   \n",
            "__________________________________________________________________________________________________\n",
            "flatten (Flatten)               (None, 262144)       0           batch_normalization_v1_1[0][0]   \n",
            "__________________________________________________________________________________________________\n",
            "dense (Dense)                   (None, 16)           4194320     flatten[0][0]                    \n",
            "__________________________________________________________________________________________________\n",
            "batch_normalization_v1_2 (Batch (None, 16)           64          dense[0][0]                      \n",
            "__________________________________________________________________________________________________\n",
            "latent_mu (Dense)               (None, 2)            34          batch_normalization_v1_2[0][0]   \n",
            "__________________________________________________________________________________________________\n",
            "latent_sigma (Dense)            (None, 2)            34          batch_normalization_v1_2[0][0]   \n",
            "__________________________________________________________________________________________________\n",
            "z (Lambda)                      (None, 2)            0           latent_mu[0][0]                  \n",
            "                                                                 latent_sigma[0][0]               \n",
            "==================================================================================================\n",
            "Total params: 4,214,228\n",
            "Trainable params: 4,214,004\n",
            "Non-trainable params: 224\n",
            "__________________________________________________________________________________________________\n"
          ]
        }
      ],
      "source": [
        "\n",
        "# Defining the encoder\n",
        "inputs = Input(shape=(image_width, image_height, 3), name='encoder_input')  \n",
        "\n",
        "x = Conv2D(32, (3, 3), activation='relu', strides=2, padding='same')(inputs)\n",
        "x = BatchNormalization()(x)\n",
        "x = Conv2D(64, (3, 3), activation='relu', strides=2, padding='same')(x)\n",
        "x = BatchNormalization()(x)\n",
        "conv_shape = K.int_shape(x)\n",
        "x = Flatten()(x)\n",
        "x = Dense(16)(x)\n",
        "x = BatchNormalization()(x)\n",
        "mu = Dense(latent_dim, name='latent_mu')(x)\n",
        "sigma = Dense(latent_dim, name='latent_sigma')(x)\n",
        "\n",
        "# use reparameterization trick to push the sampling out as input\n",
        "z  = Lambda(sample_z, output_shape=(latent_dim, ), name='z')([mu, sigma])\n",
        "\n",
        "\n",
        "encoder = Model(inputs, [mu, sigma, z], name='encoder')\n",
        "encoder.summary()"
      ]
    },
    {
      "cell_type": "code",
      "source": [
        "# Defining decoder\n",
        "d_i   = Input(shape=(latent_dim, ), name='decoder_input')\n",
        "x     = Dense(conv_shape[1] * conv_shape[2] * conv_shape[3], activation='relu')(d_i)\n",
        "x     = BatchNormalization()(x)\n",
        "x     = Reshape((conv_shape[1], conv_shape[2], conv_shape[3]))(x)\n",
        "cx    = Conv2DTranspose(16, (3, 3), strides=2, padding='same', activation='relu')(x)\n",
        "cx    = BatchNormalization()(cx)\n",
        "cx    = Conv2DTranspose(8, (3, 3), strides=2, padding='same',  activation='relu')(cx)\n",
        "cx    = BatchNormalization()(cx)\n",
        "o     = Conv2DTranspose(3, (3, 3), activation='sigmoid', padding='same', name='decoder_output')(cx)\n",
        "\n",
        "# Instantiate decoder\n",
        "decoder = Model(d_i, o, name='decoder')\n",
        "decoder.summary()"
      ],
      "metadata": {
        "colab": {
          "base_uri": "https://localhost:8080/"
        },
        "id": "iq6xXT4EjQXl",
        "outputId": "d62eb61e-79e0-4a32-bf85-256104d184d1"
      },
      "execution_count": 7,
      "outputs": [
        {
          "output_type": "stream",
          "name": "stdout",
          "text": [
            "_________________________________________________________________\n",
            "Layer (type)                 Output Shape              Param #   \n",
            "=================================================================\n",
            "decoder_input (InputLayer)   (None, 2)                 0         \n",
            "_________________________________________________________________\n",
            "dense_1 (Dense)              (None, 262144)            786432    \n",
            "_________________________________________________________________\n",
            "batch_normalization_v1_3 (Ba (None, 262144)            1048576   \n",
            "_________________________________________________________________\n",
            "reshape (Reshape)            (None, 64, 64, 64)        0         \n",
            "_________________________________________________________________\n",
            "conv2d_transpose (Conv2DTran (None, 128, 128, 16)      9232      \n",
            "_________________________________________________________________\n",
            "batch_normalization_v1_4 (Ba (None, 128, 128, 16)      64        \n",
            "_________________________________________________________________\n",
            "conv2d_transpose_1 (Conv2DTr (None, 256, 256, 8)       1160      \n",
            "_________________________________________________________________\n",
            "batch_normalization_v1_5 (Ba (None, 256, 256, 8)       32        \n",
            "_________________________________________________________________\n",
            "decoder_output (Conv2DTransp (None, 256, 256, 3)       219       \n",
            "=================================================================\n",
            "Total params: 1,845,715\n",
            "Trainable params: 1,321,379\n",
            "Non-trainable params: 524,336\n",
            "_________________________________________________________________\n"
          ]
        }
      ]
    },
    {
      "cell_type": "code",
      "source": [
        "# Build VAE model\n",
        "outputs = decoder(encoder(inputs)[2])\n",
        "vae = Model(inputs, outputs, name='vae')\n",
        "vae.summary()"
      ],
      "metadata": {
        "colab": {
          "base_uri": "https://localhost:8080/"
        },
        "id": "vStF6Bn5jTeR",
        "outputId": "798dcb28-a04a-4a17-d394-00efb5d0cbdb"
      },
      "execution_count": 8,
      "outputs": [
        {
          "output_type": "stream",
          "name": "stdout",
          "text": [
            "_________________________________________________________________\n",
            "Layer (type)                 Output Shape              Param #   \n",
            "=================================================================\n",
            "encoder_input (InputLayer)   (None, 256, 256, 3)       0         \n",
            "_________________________________________________________________\n",
            "encoder (Model)              [(None, 2), (None, 2), (N 4214228   \n",
            "_________________________________________________________________\n",
            "decoder (Model)              (None, 256, 256, 3)       1845715   \n",
            "=================================================================\n",
            "Total params: 6,059,943\n",
            "Trainable params: 5,535,383\n",
            "Non-trainable params: 524,560\n",
            "_________________________________________________________________\n"
          ]
        }
      ]
    },
    {
      "cell_type": "code",
      "source": [
        "def vae_loss(true, pred):\n",
        "    # Reconstruction loss\n",
        "    reconstruction_loss = binary_crossentropy(K.flatten(true), K.flatten(pred)) * image_width * image_height\n",
        "    # KL divergence loss\n",
        "    kl_loss = 1 + sigma - K.square(mu) - K.exp(sigma)\n",
        "    kl_loss = K.sum(kl_loss, axis=-1)\n",
        "    kl_loss *= -0.5\n",
        "    # Total loss = 50% rec + 50% KL divergence loss\n",
        "    return K.mean(reconstruction_loss + kl_loss)"
      ],
      "metadata": {
        "id": "vkkOBivwjWSO"
      },
      "execution_count": 9,
      "outputs": []
    },
    {
      "cell_type": "code",
      "source": [
        "import numpy as np\n",
        "import tensorflow as tf\n",
        "import keras \n",
        "from keras.layers import Dense, Conv2D, MaxPool2D, UpSampling2D, Dropout, Input\n",
        "from keras.preprocessing.image import img_to_array\n",
        "import matplotlib.pyplot as plt\n",
        "import cv2\n",
        "from tqdm import tqdm \n",
        "import os\n",
        "import re \n",
        "# to get the files in proper order\n",
        "def sorted_alphanumeric(data):  \n",
        "    convert = lambda text: int(text) if text.isdigit() else text.lower()\n",
        "    alphanum_key = lambda key: [convert(c) for c in re.split('([0-9]+)',key)]\n",
        "    return sorted(data,key = alphanum_key)\n",
        "\n",
        "\n",
        "# defining the size of image \n",
        "SIZE = 256\n",
        "\n",
        "image_path = '/content/photos'\n",
        "img_array = []\n",
        "\n",
        "sketch_path = '/content/sketches'\n",
        "sketch_array = []\n",
        "\n",
        "image_file = sorted_alphanumeric(os.listdir(image_path))\n",
        "sketch_file = sorted_alphanumeric(os.listdir(sketch_path))\n",
        "\n",
        "\n",
        "for i in tqdm(image_file):\n",
        "    image = cv2.imread(image_path + '/' + i,1)\n",
        "    print(\"Image is \",image)\n",
        "    \n",
        "    # as opencv load image in bgr format converting it to rgb\n",
        "    image = cv2.cvtColor(image, cv2.COLOR_BGR2RGB)\n",
        "    \n",
        "    # resizing images \n",
        "    image = cv2.resize(image, (SIZE, SIZE))\n",
        "    \n",
        "    # normalizing image \n",
        "    image = image.astype('float32') / 255.0\n",
        "    \n",
        "    #appending normal normal image    \n",
        "    img_array.append(img_to_array(image))\n",
        "    # Image Augmentation\n",
        "    \n",
        "    # horizontal flip \n",
        "    img1 = cv2.flip(image,1)\n",
        "    img_array.append(img_to_array(img1))\n",
        "     #vertical flip \n",
        "    img2 = cv2.flip(image,-1)\n",
        "    img_array.append(img_to_array(img2))\n",
        "     #vertical flip \n",
        "    img3 = cv2.flip(image,-1)\n",
        "    # horizontal flip\n",
        "    img3 = cv2.flip(img3,1)\n",
        "    img_array.append(img_to_array(img3))\n",
        "    # rotate clockwise \n",
        "    img4 = cv2.rotate(image, cv2.ROTATE_90_CLOCKWISE)\n",
        "    img_array.append(img_to_array(img4))\n",
        "    # flip rotated image \n",
        "    img5 = cv2.flip(img4,1)\n",
        "    img_array.append(img_to_array(img5))\n",
        "     # rotate anti clockwise \n",
        "    img6 = cv2.rotate(image, cv2.ROTATE_90_COUNTERCLOCKWISE)\n",
        "    img_array.append(img_to_array(img6))\n",
        "    # flip rotated image \n",
        "    img7 = cv2.flip(img6,1)\n",
        "    img_array.append(img_to_array(img7))\n",
        "  \n",
        "    \n",
        "for i in tqdm(sketch_file):\n",
        "    image = cv2.imread(sketch_path + '/' + i,1)\n",
        "    \n",
        "    # as opencv load image in bgr format converting it to rgb\n",
        "    image = cv2.cvtColor(image, cv2.COLOR_BGR2RGB)\n",
        "    \n",
        "    # resizing images \n",
        "    image = cv2.resize(image, (SIZE, SIZE))\n",
        "    \n",
        "    # normalizing image \n",
        "    image = image.astype('float32') / 255.0\n",
        "    # appending normal sketch image\n",
        "    sketch_array.append(img_to_array(image))\n",
        "    \n",
        "    #Image Augmentation\n",
        "    # horizontal flip \n",
        "    img1 = cv2.flip(image,1)\n",
        "    sketch_array.append(img_to_array(img1))\n",
        "     #vertical flip \n",
        "    img2 = cv2.flip(image,-1)\n",
        "    sketch_array.append(img_to_array(img2))\n",
        "     #vertical flip \n",
        "    img3 = cv2.flip(image,-1)\n",
        "    # horizontal flip\n",
        "    img3 = cv2.flip(img3,1)\n",
        "    sketch_array.append(img_to_array(img3))\n",
        "    # rotate clockwise \n",
        "    img4 = cv2.rotate(image, cv2.ROTATE_90_CLOCKWISE)\n",
        "    sketch_array.append(img_to_array(img4))\n",
        "    # flip rotated image \n",
        "    img5 = cv2.flip(img4,1)\n",
        "    sketch_array.append(img_to_array(img5))\n",
        "     # rotate anti clockwise \n",
        "    img6 = cv2.rotate(image, cv2.ROTATE_90_COUNTERCLOCKWISE)\n",
        "    sketch_array.append(img_to_array(img6))\n",
        "    # flip rotated image \n",
        "    img7 = cv2.flip(img6,1)\n",
        "    sketch_array.append(img_to_array(img7))"
      ],
      "metadata": {
        "id": "FDf3KNt3jaNf"
      },
      "execution_count": null,
      "outputs": []
    },
    {
      "cell_type": "code",
      "source": [
        "print(\"Total number of sketch images:\",len(sketch_array))\n",
        "print(\"Total number of images:\",len(img_array))\n",
        "train_sketch_image = sketch_array[:1400]\n",
        "train_image = img_array[:1400]\n",
        "test_sketch_image = sketch_array[1400:]\n",
        "test_image = img_array[1400:]\n",
        "# reshaping\n",
        "train_sketch_image = np.reshape(train_sketch_image,(len(train_sketch_image),SIZE,SIZE,3))\n",
        "train_image = np.reshape(train_image, (len(train_image),SIZE,SIZE,3))\n",
        "print('Train color image shape:',train_image.shape)\n",
        "test_sketch_image = np.reshape(test_sketch_image,(len(test_sketch_image),SIZE,SIZE,3))\n",
        "test_image = np.reshape(test_image, (len(test_image),SIZE,SIZE,3))\n",
        "print('Test color image shape',test_image.shape)"
      ],
      "metadata": {
        "colab": {
          "base_uri": "https://localhost:8080/"
        },
        "id": "8LKP0GP6je4-",
        "outputId": "45ba7f64-5e06-4631-b667-fc4936bf7544"
      },
      "execution_count": 11,
      "outputs": [
        {
          "output_type": "stream",
          "name": "stdout",
          "text": [
            "Total number of sketch images: 1504\n",
            "Total number of images: 1504\n",
            "Train color image shape: (1400, 256, 256, 3)\n",
            "Test color image shape (104, 256, 256, 3)\n"
          ]
        }
      ]
    },
    {
      "cell_type": "markdown",
      "source": [
        "**Modelling for Face To Sketch**"
      ],
      "metadata": {
        "id": "eHi4GDl93o6M"
      }
    },
    {
      "cell_type": "code",
      "source": [
        "# vae.compile(optimizer='adam', loss=vae_loss)\n",
        "vae.compile(optimizer='rmsprop', loss= vae_loss)\n",
        "encoder.compile(optimizer = 'rmsprop', loss = vae_loss)\n",
        "decoder.compile(optimizer = 'rmsprop', loss = vae_loss)\n",
        "vae.fit(train_image, train_sketch_image,\n",
        "        epochs=20,\n",
        "        batch_size=80,\n",
        "        validation_data=(test_image, test_sketch_image))\n",
        "\n",
        "# Randomly sample one or more charachters and plot them\n",
        "random_chars = [np.random.normal(0, 1, latent_dim) for _ in range(1)]\n",
        "imgs = []\n",
        "for char in random_chars:\n",
        "    char = char.reshape(-1,2)\n",
        "    imgs.append(decoder.predict(char))\n",
        "\n",
        "imgs = [np.reshape(img,(image_width, image_height, 3)) for img in imgs]\n",
        "for img in imgs:\n",
        "    plt.figure(figsize=(2,2))\n",
        "    plt.axis('off')\n",
        "    plt.imshow(img, cmap='gray')"
      ],
      "metadata": {
        "colab": {
          "base_uri": "https://localhost:8080/",
          "height": 946
        },
        "id": "zVAsCO84jfjc",
        "outputId": "e745d52d-cf28-4926-97b2-33f6f73221b0"
      },
      "execution_count": 10,
      "outputs": [
        {
          "output_type": "stream",
          "name": "stdout",
          "text": [
            "Train on 1400 samples, validate on 104 samples\n",
            "WARNING:tensorflow:From /usr/local/lib/python3.7/dist-packages/tensorflow/python/ops/math_ops.py:3066: to_int32 (from tensorflow.python.ops.math_ops) is deprecated and will be removed in a future version.\n",
            "Instructions for updating:\n",
            "Use tf.cast instead.\n",
            "Epoch 1/20\n",
            "1400/1400 [==============================] - 327s 234ms/sample - loss: 47095.9922 - val_loss: 43999.5225\n",
            "Epoch 2/20\n",
            "1400/1400 [==============================] - 311s 222ms/sample - loss: 41042.6376 - val_loss: 42112.2094\n",
            "Epoch 3/20\n",
            "1400/1400 [==============================] - 312s 223ms/sample - loss: 37402.4026 - val_loss: 40087.2461\n",
            "Epoch 4/20\n",
            "1400/1400 [==============================] - 312s 223ms/sample - loss: 34506.5664 - val_loss: 37341.9931\n",
            "Epoch 5/20\n",
            "1400/1400 [==============================] - 312s 223ms/sample - loss: 31714.8256 - val_loss: 34430.6505\n",
            "Epoch 6/20\n",
            "1400/1400 [==============================] - 311s 222ms/sample - loss: 29434.6018 - val_loss: 32005.0152\n",
            "Epoch 7/20\n",
            "1400/1400 [==============================] - 312s 223ms/sample - loss: 27632.3783 - val_loss: 30583.8522\n",
            "Epoch 8/20\n",
            "1400/1400 [==============================] - 313s 223ms/sample - loss: 26470.1687 - val_loss: 30140.6119\n",
            "Epoch 9/20\n",
            "1400/1400 [==============================] - 314s 224ms/sample - loss: 25888.7784 - val_loss: 30164.3409\n",
            "Epoch 10/20\n",
            "1400/1400 [==============================] - 316s 226ms/sample - loss: 25600.9888 - val_loss: 29604.0865\n",
            "Epoch 11/20\n",
            "1400/1400 [==============================] - 314s 224ms/sample - loss: 25489.8307 - val_loss: 30100.9865\n",
            "Epoch 12/20\n",
            "1400/1400 [==============================] - 318s 227ms/sample - loss: 25419.7831 - val_loss: 28863.3505\n",
            "Epoch 13/20\n",
            "1400/1400 [==============================] - 317s 226ms/sample - loss: 25183.3678 - val_loss: 29464.2458\n",
            "Epoch 14/20\n",
            "1400/1400 [==============================] - 318s 227ms/sample - loss: 25063.3570 - val_loss: 28959.8792\n",
            "Epoch 15/20\n",
            "1400/1400 [==============================] - 315s 225ms/sample - loss: 25066.5850 - val_loss: 28528.3205\n",
            "Epoch 16/20\n",
            "1400/1400 [==============================] - 316s 226ms/sample - loss: 24981.0541 - val_loss: 27966.9437\n",
            "Epoch 17/20\n",
            "1400/1400 [==============================] - 314s 224ms/sample - loss: 24984.7674 - val_loss: 27870.4576\n",
            "Epoch 18/20\n",
            "1400/1400 [==============================] - 314s 224ms/sample - loss: 24827.2156 - val_loss: 27867.0539\n",
            "Epoch 19/20\n",
            "1400/1400 [==============================] - 315s 225ms/sample - loss: 24905.4699 - val_loss: 27124.4410\n",
            "Epoch 20/20\n",
            "1400/1400 [==============================] - 314s 224ms/sample - loss: 24796.1569 - val_loss: 26122.6645\n"
          ]
        },
        {
          "output_type": "display_data",
          "data": {
            "image/png": "[encoded data removed]",
            "text/plain": [
              "<Figure size 144x144 with 1 Axes>"
            ]
          },
          "metadata": {
            "needs_background": "light"
          }
        }
      ]
    },
    {
      "cell_type": "code",
      "source": [
        "# Test this code to display both photo and sketch together\n",
        "# https://github.com/mrdragonbear/GAN-Tutorial/blob/master/GAN-Tutorial-Part3.ipynb\n",
        "import random\n",
        "img_id = np.arange(1,len(attr.index)+1)\n",
        "x_test = []\n",
        "for i in range(64):\n",
        "    x_test.append(get_input(img_path[random.randint(0,len(img_id))]))\n",
        "x_test = np.array(x_test)\n",
        "figure_Decoded = vae_2.predict(x_test.astype('float32')/127.5 -1, batch_size = b_size)\n",
        "figure_original = x_test[0]\n",
        "figure_decoded = (figure_Decoded[0]+1)/2\n",
        "for i in range(4):\n",
        "    plt.axis('off')\n",
        "    plt.subplot(2,4,1+i*2)\n",
        "    plt.imshow(x_test[i])\n",
        "    plt.axis('off')\n",
        "    plt.subplot(2,4,2 + i*2)\n",
        "    plt.imshow((figure_Decoded[i]+1)/2)\n",
        "    plt.axis('off')\n",
        "plt.show()  "
      ],
      "metadata": {
        "id": "phK0BoKCGcn8"
      },
      "execution_count": null,
      "outputs": []
    },
    {
      "cell_type": "code",
      "source": [
        "# Randomly sample one or more charachters and plot them\n",
        "random_chars = [np.random.normal(0, 10, latent_dim) for _ in range(1)]\n",
        "imgs = []\n",
        "for char in random_chars:\n",
        "    char = char.reshape(-1,2)\n",
        "    imgs.append(decoder.predict(char))\n",
        "\n",
        "print(random_chars[0].shape)\n",
        "imgs = [np.reshape(img,(image_width, image_height, 3)) for img in imgs]\n",
        "for img in imgs:\n",
        "    plt.figure(figsize=(2,2))\n",
        "    plt.axis('off')\n",
        "    plt.imshow(img, cmap='gray')\n",
        "\n",
        "# plt.imshow(test_image[0].reshape(256, 256, 3))"
      ],
      "metadata": {
        "colab": {
          "base_uri": "https://localhost:8080/",
          "height": 158
        },
        "id": "-sVrWC28jkyn",
        "outputId": "739254e5-50e7-48b7-925f-c4bb4ca6c4c7"
      },
      "execution_count": 77,
      "outputs": [
        {
          "output_type": "stream",
          "name": "stdout",
          "text": [
            "(2,)\n"
          ]
        },
        {
          "output_type": "display_data",
          "data": {
            "image/png": "[encoded data removed]",
            "text/plain": [
              "<Figure size 144x144 with 1 Axes>"
            ]
          },
          "metadata": {
            "needs_background": "light"
          }
        }
      ]
    },
    {
      "cell_type": "code",
      "source": [
        "random_chars"
      ],
      "metadata": {
        "id": "afQnnI0T_J0B",
        "outputId": "083042d2-24a6-4f8e-86ce-3ce277152be9",
        "colab": {
          "base_uri": "https://localhost:8080/"
        }
      },
      "execution_count": null,
      "outputs": [
        {
          "output_type": "execute_result",
          "data": {
            "text/plain": [
              "[array([ 0.46834664, -0.92630004])]"
            ]
          },
          "metadata": {},
          "execution_count": 44
        }
      ]
    },
    {
      "cell_type": "markdown",
      "source": [
        "**Modelling for Sketch To Face**"
      ],
      "metadata": {
        "id": "iXATrEy03wYA"
      }
    },
    {
      "cell_type": "code",
      "source": [
        "vae.compile(optimizer='adam', loss=vae_loss)\n",
        "vae.fit(train_sketch_image, train_image,\n",
        "        epochs=80,\n",
        "        batch_size=16,\n",
        "        validation_data=(test_sketch_image, test_image))\n",
        "\n",
        "random_chars = [np.random.normal(0, 1, latent_dim) for _ in range(1)]\n",
        "imgs = []\n",
        "for char in random_chars:\n",
        "    char = char.reshape(-1,2)\n",
        "    imgs.append(decoder.predict(char))\n",
        "\n",
        "imgs = [np.reshape(img,(image_width, image_height, 3)) for img in imgs]\n",
        "for img in imgs:\n",
        "    plt.figure(figsize=(2,2))\n",
        "    plt.axis('off')\n",
        "    plt.imshow(img, cmap='gray')"
      ],
      "metadata": {
        "colab": {
          "base_uri": "https://localhost:8080/",
          "height": 1000
        },
        "id": "1p47sOEl30an",
        "outputId": "7f9f0885-0241-4b23-d81d-6df4ad4b3a53"
      },
      "execution_count": 12,
      "outputs": [
        {
          "output_type": "stream",
          "name": "stdout",
          "text": [
            "Train on 1400 samples, validate on 104 samples\n",
            "WARNING:tensorflow:From /usr/local/lib/python3.7/dist-packages/tensorflow/python/ops/math_ops.py:3066: to_int32 (from tensorflow.python.ops.math_ops) is deprecated and will be removed in a future version.\n",
            "Instructions for updating:\n",
            "Use tf.cast instead.\n",
            "Epoch 1/80\n",
            "1400/1400 [==============================] - 366s 262ms/sample - loss: 43790.0767 - val_loss: 43000.8894\n",
            "Epoch 2/80\n",
            "1400/1400 [==============================] - 359s 257ms/sample - loss: 39351.0390 - val_loss: 41394.5285\n",
            "Epoch 3/80\n",
            "1400/1400 [==============================] - 358s 256ms/sample - loss: 38366.4811 - val_loss: 40129.4657\n",
            "Epoch 4/80\n",
            "1400/1400 [==============================] - 358s 256ms/sample - loss: 38137.6051 - val_loss: 38592.8077\n",
            "Epoch 5/80\n",
            "1400/1400 [==============================] - 356s 254ms/sample - loss: 37940.9591 - val_loss: 36978.7674\n",
            "Epoch 6/80\n",
            "1400/1400 [==============================] - 356s 255ms/sample - loss: 37797.2846 - val_loss: 36161.6217\n",
            "Epoch 7/80\n",
            "1400/1400 [==============================] - 356s 255ms/sample - loss: 37701.9875 - val_loss: 36017.3990\n",
            "Epoch 8/80\n",
            "1400/1400 [==============================] - 357s 255ms/sample - loss: 37705.9050 - val_loss: 35653.6773\n",
            "Epoch 9/80\n",
            "1400/1400 [==============================] - 357s 255ms/sample - loss: 37473.7724 - val_loss: 35826.6854\n",
            "Epoch 10/80\n",
            "1400/1400 [==============================] - 356s 255ms/sample - loss: 37408.1473 - val_loss: 35420.3873\n",
            "Epoch 11/80\n",
            "1400/1400 [==============================] - 357s 255ms/sample - loss: 37349.3474 - val_loss: 35314.9201\n",
            "Epoch 12/80\n",
            "1400/1400 [==============================] - 357s 255ms/sample - loss: 37263.1913 - val_loss: 35475.8756\n",
            "Epoch 13/80\n",
            "1400/1400 [==============================] - 357s 255ms/sample - loss: 37283.2235 - val_loss: 35735.2722\n",
            "Epoch 14/80\n",
            "1400/1400 [==============================] - 356s 254ms/sample - loss: 37237.3346 - val_loss: 37763.0523\n",
            "Epoch 15/80\n",
            "1400/1400 [==============================] - 357s 255ms/sample - loss: 37117.3633 - val_loss: 35477.0063\n",
            "Epoch 16/80\n",
            "1400/1400 [==============================] - 356s 255ms/sample - loss: 37133.5112 - val_loss: 36476.2533\n",
            "Epoch 17/80\n",
            "1400/1400 [==============================] - 356s 254ms/sample - loss: 37039.8983 - val_loss: 35272.0457\n",
            "Epoch 18/80\n",
            "1400/1400 [==============================] - 358s 255ms/sample - loss: 37103.7530 - val_loss: 36265.8831\n",
            "Epoch 19/80\n",
            "1400/1400 [==============================] - 356s 254ms/sample - loss: 37079.7380 - val_loss: 35875.9041\n",
            "Epoch 20/80\n",
            "1400/1400 [==============================] - 356s 255ms/sample - loss: 36996.2992 - val_loss: 35191.7191\n",
            "Epoch 21/80\n",
            "1400/1400 [==============================] - 356s 255ms/sample - loss: 37019.3197 - val_loss: 37284.4471\n",
            "Epoch 22/80\n",
            "1400/1400 [==============================] - 358s 256ms/sample - loss: 36895.7561 - val_loss: 35252.2734\n",
            "Epoch 23/80\n",
            "1400/1400 [==============================] - 357s 255ms/sample - loss: 36821.6171 - val_loss: 35823.9303\n",
            "Epoch 24/80\n",
            "1400/1400 [==============================] - 356s 254ms/sample - loss: 36917.7052 - val_loss: 34989.6629\n",
            "Epoch 25/80\n",
            "1400/1400 [==============================] - 356s 255ms/sample - loss: 36808.7386 - val_loss: 35264.4363\n",
            "Epoch 26/80\n",
            "1400/1400 [==============================] - 358s 256ms/sample - loss: 36890.9407 - val_loss: 36382.8756\n",
            "Epoch 27/80\n",
            "1400/1400 [==============================] - 358s 256ms/sample - loss: 36812.8350 - val_loss: 35270.7593\n",
            "Epoch 28/80\n",
            "1400/1400 [==============================] - 357s 255ms/sample - loss: 36804.6839 - val_loss: 35155.5757\n",
            "Epoch 29/80\n",
            "1400/1400 [==============================] - 356s 254ms/sample - loss: 36742.3584 - val_loss: 35032.2064\n",
            "Epoch 30/80\n",
            "1400/1400 [==============================] - 356s 254ms/sample - loss: 36771.6219 - val_loss: 35694.9315\n",
            "Epoch 31/80\n",
            "1400/1400 [==============================] - 357s 255ms/sample - loss: 36750.8084 - val_loss: 35506.7885\n",
            "Epoch 32/80\n",
            "1400/1400 [==============================] - 357s 255ms/sample - loss: 36720.0066 - val_loss: 35210.5096\n",
            "Epoch 33/80\n",
            "1400/1400 [==============================] - 358s 256ms/sample - loss: 36641.9531 - val_loss: 35263.4447\n",
            "Epoch 34/80\n",
            "1400/1400 [==============================] - 359s 256ms/sample - loss: 36658.9678 - val_loss: 38932.2858\n",
            "Epoch 35/80\n",
            "1400/1400 [==============================] - 358s 256ms/sample - loss: 36640.0840 - val_loss: 35061.8167\n",
            "Epoch 36/80\n",
            "1400/1400 [==============================] - 357s 255ms/sample - loss: 36637.9146 - val_loss: 35278.8603\n",
            "Epoch 37/80\n",
            "1400/1400 [==============================] - 359s 256ms/sample - loss: 36567.4436 - val_loss: 35243.5192\n",
            "Epoch 38/80\n",
            "1400/1400 [==============================] - 359s 257ms/sample - loss: 36535.1925 - val_loss: 36117.9465\n",
            "Epoch 39/80\n",
            "1400/1400 [==============================] - 358s 256ms/sample - loss: 36516.0339 - val_loss: 35394.8468\n",
            "Epoch 40/80\n",
            "1400/1400 [==============================] - 358s 255ms/sample - loss: 36622.5857 - val_loss: 35970.2921\n",
            "Epoch 41/80\n",
            "1400/1400 [==============================] - 357s 255ms/sample - loss: 36519.6347 - val_loss: 35020.5538\n",
            "Epoch 42/80\n",
            "1400/1400 [==============================] - 357s 255ms/sample - loss: 36466.6163 - val_loss: 36057.4904\n",
            "Epoch 43/80\n",
            "1400/1400 [==============================] - 357s 255ms/sample - loss: 36440.1433 - val_loss: 36267.8987\n",
            "Epoch 44/80\n",
            "1400/1400 [==============================] - 354s 253ms/sample - loss: 36508.0769 - val_loss: 35425.5415\n",
            "Epoch 45/80\n",
            "1400/1400 [==============================] - 356s 254ms/sample - loss: 36497.0832 - val_loss: 34785.9847\n",
            "Epoch 46/80\n",
            "1400/1400 [==============================] - 360s 257ms/sample - loss: 36533.7174 - val_loss: 36081.7945\n",
            "Epoch 47/80\n",
            "1400/1400 [==============================] - 358s 256ms/sample - loss: 36429.2639 - val_loss: 34867.5631\n",
            "Epoch 48/80\n",
            "1400/1400 [==============================] - 372s 266ms/sample - loss: 36434.6876 - val_loss: 35272.6172\n",
            "Epoch 49/80\n",
            "1400/1400 [==============================] - 381s 272ms/sample - loss: 36520.1637 - val_loss: 35464.2311\n",
            "Epoch 50/80\n",
            "1400/1400 [==============================] - 376s 268ms/sample - loss: 36521.1981 - val_loss: 36772.1917\n",
            "Epoch 51/80\n",
            "1400/1400 [==============================] - 374s 267ms/sample - loss: 36532.8161 - val_loss: 35274.8035\n",
            "Epoch 52/80\n",
            "1400/1400 [==============================] - 373s 267ms/sample - loss: 36490.6372 - val_loss: 35216.8266\n",
            "Epoch 53/80\n",
            "1400/1400 [==============================] - 375s 268ms/sample - loss: 36527.3008 - val_loss: 35725.3029\n",
            "Epoch 54/80\n",
            "1400/1400 [==============================] - 373s 266ms/sample - loss: 36385.4722 - val_loss: 35459.1073\n",
            "Epoch 55/80\n",
            "1400/1400 [==============================] - 374s 267ms/sample - loss: 36387.7835 - val_loss: 34749.3846\n",
            "Epoch 56/80\n",
            "1400/1400 [==============================] - 369s 264ms/sample - loss: 36543.6631 - val_loss: 36246.9642\n",
            "Epoch 57/80\n",
            "1400/1400 [==============================] - 369s 264ms/sample - loss: 36356.2557 - val_loss: 34906.2987\n",
            "Epoch 58/80\n",
            "1400/1400 [==============================] - 366s 262ms/sample - loss: 36469.5807 - val_loss: 34966.2701\n",
            "Epoch 59/80\n",
            "1400/1400 [==============================] - 368s 263ms/sample - loss: 36393.2760 - val_loss: 35653.5493\n",
            "Epoch 60/80\n",
            "1400/1400 [==============================] - 366s 262ms/sample - loss: 36350.8971 - val_loss: 36150.1526\n",
            "Epoch 61/80\n",
            "1400/1400 [==============================] - 367s 262ms/sample - loss: 36267.5295 - val_loss: 35048.0520\n",
            "Epoch 62/80\n",
            "1400/1400 [==============================] - 369s 263ms/sample - loss: 36368.9746 - val_loss: 35791.4868\n",
            "Epoch 63/80\n",
            "1400/1400 [==============================] - 368s 263ms/sample - loss: 36413.0467 - val_loss: 34943.3948\n",
            "Epoch 64/80\n",
            "1400/1400 [==============================] - 367s 262ms/sample - loss: 36380.3397 - val_loss: 35108.7632\n",
            "Epoch 65/80\n",
            "1400/1400 [==============================] - 367s 262ms/sample - loss: 36352.1837 - val_loss: 35250.5162\n",
            "Epoch 66/80\n",
            "1400/1400 [==============================] - 358s 256ms/sample - loss: 36196.4319 - val_loss: 35007.7326\n",
            "Epoch 67/80\n",
            "1400/1400 [==============================] - 354s 253ms/sample - loss: 36307.7424 - val_loss: 34898.0421\n",
            "Epoch 68/80\n",
            "1400/1400 [==============================] - 358s 256ms/sample - loss: 36297.7375 - val_loss: 35735.7557\n",
            "Epoch 69/80\n",
            "1400/1400 [==============================] - 360s 257ms/sample - loss: 36343.7128 - val_loss: 34956.1469\n",
            "Epoch 70/80\n",
            "1400/1400 [==============================] - 361s 258ms/sample - loss: 36342.0549 - val_loss: 35130.4038\n",
            "Epoch 71/80\n",
            "1400/1400 [==============================] - 362s 259ms/sample - loss: 36356.1636 - val_loss: 36498.2314\n",
            "Epoch 72/80\n",
            "1400/1400 [==============================] - 362s 259ms/sample - loss: 36279.9903 - val_loss: 35249.8864\n",
            "Epoch 73/80\n",
            "1400/1400 [==============================] - 363s 259ms/sample - loss: 36317.5107 - val_loss: 35052.9056\n",
            "Epoch 74/80\n",
            "1400/1400 [==============================] - 352s 252ms/sample - loss: 36340.6092 - val_loss: 36495.5727\n",
            "Epoch 75/80\n",
            "1400/1400 [==============================] - 352s 251ms/sample - loss: 36360.6006 - val_loss: 35601.5132\n",
            "Epoch 76/80\n",
            "1400/1400 [==============================] - 349s 249ms/sample - loss: 36303.0957 - val_loss: 35460.3401\n",
            "Epoch 77/80\n",
            "1400/1400 [==============================] - 349s 249ms/sample - loss: 36314.8041 - val_loss: 35361.6596\n",
            "Epoch 78/80\n",
            "1400/1400 [==============================] - 351s 251ms/sample - loss: 36269.6609 - val_loss: 35223.2963\n",
            "Epoch 79/80\n",
            "1400/1400 [==============================] - 347s 248ms/sample - loss: 36267.7246 - val_loss: 34999.9700\n",
            "Epoch 80/80\n",
            "1400/1400 [==============================] - 348s 249ms/sample - loss: 36352.0225 - val_loss: 35315.7434\n"
          ]
        },
        {
          "output_type": "display_data",
          "data": {
            "image/png": "[encoded data removed]",
            "text/plain": [
              "<Figure size 144x144 with 1 Axes>"
            ]
          },
          "metadata": {
            "needs_background": "light"
          }
        }
      ]
    },
    {
      "cell_type": "code",
      "source": [
        "random_chars = [np.random.normal(0, 1, latent_dim) for _ in range(1)]\n",
        "imgs = []\n",
        "for char in random_chars:\n",
        "    char = char.reshape(-1,2)\n",
        "    imgs.append(decoder.predict(char))\n",
        "\n",
        "imgs = [np.reshape(img,(image_width, image_height, 3)) for img in imgs]\n",
        "for img in imgs:\n",
        "    plt.figure(figsize=(2,2))\n",
        "    plt.axis('off')\n",
        "    plt.imshow(img, cmap='gray')"
      ],
      "metadata": {
        "id": "9PGpEDXhHpCr",
        "outputId": "b5e90233-c986-40ae-90d4-d1b84195cd15",
        "colab": {
          "base_uri": "https://localhost:8080/",
          "height": 140
        }
      },
      "execution_count": 15,
      "outputs": [
        {
          "output_type": "display_data",
          "data": {
            "image/png": "[encoded data removed]",
            "text/plain": [
              "<Figure size 144x144 with 1 Axes>"
            ]
          },
          "metadata": {
            "needs_background": "light"
          }
        }
      ]
    },
    {
      "cell_type": "code",
      "source": [
        ""
      ],
      "metadata": {
        "id": "KGruQj0yA9Bx"
      },
      "execution_count": null,
      "outputs": []
    },
    {
      "cell_type": "code",
      "source": [
        ""
      ],
      "metadata": {
        "id": "KR024gE5A9Nv"
      },
      "execution_count": null,
      "outputs": []
    },
    {
      "cell_type": "code",
      "source": [
        ""
      ],
      "metadata": {
        "id": "ckEMtBoWA9Qy"
      },
      "execution_count": null,
      "outputs": []
    },
    {
      "cell_type": "markdown",
      "source": [
        "**Hyperparameter Tuning**"
      ],
      "metadata": {
        "id": "4UlRjMX5A9kl"
      }
    },
    {
      "cell_type": "code",
      "source": [
        "def encoder(hp):\n",
        "  inputs = Input(shape=(image_width, image_height, 3), name='encoder_input')  \n",
        "\n",
        "  x = Conv2D(filters=hp.Int('conv_1_filter', min_value=32, max_value=128, step=16),\n",
        "             kernel_size=hp.Choice('conv_1_kernel', values = [3,5]),\n",
        "             activation='relu',\n",
        "             strides=2, padding='same')(inputs)\n",
        "  \n",
        "  x = BatchNormalization()(x)\n",
        "\n",
        "  x = Conv2D(filters=hp.Int('conv_2_filter', min_value=64, max_value=128, step=16),\n",
        "             kernel_size=hp.Choice('conv_2_kernel', values = [3,5]),\n",
        "             activation='relu',\n",
        "             strides=2, padding='same')(x)\n",
        "  x = BatchNormalization()(x)\n",
        "  conv_shape = K.int_shape(x)\n",
        "  x = Flatten()(x)\n",
        "  x = Dense(16)(x)\n",
        "  x = BatchNormalization()(x)\n",
        "  mu = Dense(latent_dim, name='latent_mu')(x)\n",
        "  sigma = Dense(latent_dim, name='latent_sigma')(x)\n",
        "\n",
        "  # use reparameterization trick to push the sampling out as input\n",
        "  z  = Lambda(sample_z, output_shape=(latent_dim, ), name='z')([mu, sigma])\n",
        "\n",
        "\n",
        "  encoder = Model(inputs, [mu, sigma, z], name='encoder')\n",
        "  encoder.summary()\n",
        "  \n",
        "  # Defining decoder\n",
        "  d_i   = Input(shape=(latent_dim, ), name='decoder_input')\n",
        "  x     = Dense(conv_shape[1] * conv_shape[2] * conv_shape[3], activation='relu')(d_i)\n",
        "  x     = BatchNormalization()(x)\n",
        "  x     = Reshape((conv_shape[1], conv_shape[2], conv_shape[3]))(x)\n",
        "  cx    = Conv2DTranspose(16, (3, 3), strides=2, padding='same', activation='relu')(x)\n",
        "  cx    = BatchNormalization()(cx)\n",
        "  cx    = Conv2DTranspose(8, (3, 3), strides=2, padding='same',  activation='relu')(cx)\n",
        "  cx    = BatchNormalization()(cx)\n",
        "  o     = Conv2DTranspose(3, (3, 3), activation='sigmoid', padding='same', name='decoder_output')(cx)\n",
        "\n",
        "  # Instantiate decoder\n",
        "  decoder = Model(d_i, o, name='decoder')\n",
        "  decoder.summary()\n",
        "\n",
        "  # Build VAE model\n",
        "  outputs = decoder(encoder(inputs)[2])\n",
        "  vae = Model(inputs, outputs, name='vae')\n",
        "  vae.summary()\n",
        "\n",
        "  vae.compile(optimizer='adam', loss=vae_loss)\n",
        "  return vae\n"
      ],
      "metadata": {
        "id": "7lD4VdM5BBKl"
      },
      "execution_count": null,
      "outputs": []
    },
    {
      "cell_type": "code",
      "source": [
        "tuner_search=RandomSearch(build_model,\n",
        "                          objective='val_acc',\n",
        "                          max_trials=5,directory='/content/output3',project_name=\"FaceToSketch\")\n"
      ],
      "metadata": {
        "id": "a81JFG_tz5iE"
      },
      "execution_count": null,
      "outputs": []
    },
    {
      "cell_type": "code",
      "source": [
        "tuner_search.search(train_sketch_image,train_image,epochs=500,validation_split=0.1, validation_data=(test_sketch_image, test_image))"
      ],
      "metadata": {
        "id": "XYU2wZIDzxJp"
      },
      "execution_count": null,
      "outputs": []
    },
    {
      "cell_type": "code",
      "source": [
        "model=tuner_search.get_best_models(num_models=1)[0]\n",
        "model.summary()"
      ],
      "metadata": {
        "id": "hlp8nRvf4Csl"
      },
      "execution_count": null,
      "outputs": []
    },
    {
      "cell_type": "code",
      "source": [
        "random_chars = [np.random.normal(0, 1, latent_dim) for _ in range(1)]\n",
        "imgs = []\n",
        "for char in random_chars:\n",
        "    char = char.reshape(-1,2)\n",
        "    imgs.append(model.predict(char))\n",
        "\n",
        "imgs = [np.reshape(img,(image_width, image_height, 3)) for img in imgs]\n",
        "for img in imgs:\n",
        "    plt.figure(figsize=(2,2))\n",
        "    plt.axis('off')\n",
        "    plt.imshow(img, cmap='gray')"
      ],
      "metadata": {
        "id": "H77pf0R-4Ucf"
      },
      "execution_count": null,
      "outputs": []
    }
  ]
}