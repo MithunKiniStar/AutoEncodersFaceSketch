{
  "nbformat": 4,
  "nbformat_minor": 0,
  "metadata": {
    "colab": {
      "name": "Variational Autoencoder.ipynb",
      "provenance": [],
      "authorship_tag": "ABX9TyM2lI+JOFA7k8N4oRjPO6xj",
      "include_colab_link": true
    },
    "kernelspec": {
      "name": "python3",
      "display_name": "Python 3"
    },
    "language_info": {
      "name": "python"
    },
    "accelerator": "GPU"
  },
  "cells": [
    {
      "cell_type": "markdown",
      "metadata": {
        "id": "view-in-github",
        "colab_type": "text"
      },
      "source": [
        "<a href=\"https://colab.research.google.com/github/MithunKiniStar/AutoEncodersFaceSketch/blob/main/Variational_Autoencoder.ipynb\" target=\"_parent\"><img src=\"https://colab.research.google.com/assets/colab-badge.svg\" alt=\"Open In Colab\"/></a>"
      ]
    },
    {
      "cell_type": "code",
      "source": [
        "!pip install keras==2.2.4\n",
        "!pip install tensorflow==1.13.1"
      ],
      "metadata": {
        "colab": {
          "base_uri": "https://localhost:8080/"
        },
        "id": "H3zvShavj_j-",
        "outputId": "64dca52b-5792-42ac-b10d-97c6829f20b5"
      },
      "execution_count": 2,
      "outputs": [
        {
          "output_type": "stream",
          "name": "stdout",
          "text": [
            "Requirement already satisfied: keras==2.2.4 in /usr/local/lib/python3.7/dist-packages (2.2.4)\n",
            "Requirement already satisfied: pyyaml in /usr/local/lib/python3.7/dist-packages (from keras==2.2.4) (3.13)\n",
            "Requirement already satisfied: keras-preprocessing>=1.0.5 in /usr/local/lib/python3.7/dist-packages (from keras==2.2.4) (1.1.2)\n",
            "Requirement already satisfied: six>=1.9.0 in /usr/local/lib/python3.7/dist-packages (from keras==2.2.4) (1.15.0)\n",
            "Requirement already satisfied: numpy>=1.9.1 in /usr/local/lib/python3.7/dist-packages (from keras==2.2.4) (1.21.5)\n",
            "Requirement already satisfied: keras-applications>=1.0.6 in /usr/local/lib/python3.7/dist-packages (from keras==2.2.4) (1.0.8)\n",
            "Requirement already satisfied: h5py in /usr/local/lib/python3.7/dist-packages (from keras==2.2.4) (3.1.0)\n",
            "Requirement already satisfied: scipy>=0.14 in /usr/local/lib/python3.7/dist-packages (from keras==2.2.4) (1.4.1)\n",
            "Requirement already satisfied: cached-property in /usr/local/lib/python3.7/dist-packages (from h5py->keras==2.2.4) (1.5.2)\n",
            "Requirement already satisfied: tensorflow==1.13.1 in /usr/local/lib/python3.7/dist-packages (1.13.1)\n",
            "Requirement already satisfied: absl-py>=0.1.6 in /usr/local/lib/python3.7/dist-packages (from tensorflow==1.13.1) (1.0.0)\n",
            "Requirement already satisfied: protobuf>=3.6.1 in /usr/local/lib/python3.7/dist-packages (from tensorflow==1.13.1) (3.17.3)\n",
            "Requirement already satisfied: tensorboard<1.14.0,>=1.13.0 in /usr/local/lib/python3.7/dist-packages (from tensorflow==1.13.1) (1.13.1)\n",
            "Requirement already satisfied: astor>=0.6.0 in /usr/local/lib/python3.7/dist-packages (from tensorflow==1.13.1) (0.8.1)\n",
            "Requirement already satisfied: keras-applications>=1.0.6 in /usr/local/lib/python3.7/dist-packages (from tensorflow==1.13.1) (1.0.8)\n",
            "Requirement already satisfied: gast>=0.2.0 in /usr/local/lib/python3.7/dist-packages (from tensorflow==1.13.1) (0.5.3)\n",
            "Requirement already satisfied: numpy>=1.13.3 in /usr/local/lib/python3.7/dist-packages (from tensorflow==1.13.1) (1.21.5)\n",
            "Requirement already satisfied: six>=1.10.0 in /usr/local/lib/python3.7/dist-packages (from tensorflow==1.13.1) (1.15.0)\n",
            "Requirement already satisfied: keras-preprocessing>=1.0.5 in /usr/local/lib/python3.7/dist-packages (from tensorflow==1.13.1) (1.1.2)\n",
            "Requirement already satisfied: tensorflow-estimator<1.14.0rc0,>=1.13.0 in /usr/local/lib/python3.7/dist-packages (from tensorflow==1.13.1) (1.13.0)\n",
            "Requirement already satisfied: wheel>=0.26 in /usr/local/lib/python3.7/dist-packages (from tensorflow==1.13.1) (0.37.1)\n",
            "Requirement already satisfied: termcolor>=1.1.0 in /usr/local/lib/python3.7/dist-packages (from tensorflow==1.13.1) (1.1.0)\n",
            "Requirement already satisfied: grpcio>=1.8.6 in /usr/local/lib/python3.7/dist-packages (from tensorflow==1.13.1) (1.43.0)\n",
            "Requirement already satisfied: h5py in /usr/local/lib/python3.7/dist-packages (from keras-applications>=1.0.6->tensorflow==1.13.1) (3.1.0)\n",
            "Requirement already satisfied: werkzeug>=0.11.15 in /usr/local/lib/python3.7/dist-packages (from tensorboard<1.14.0,>=1.13.0->tensorflow==1.13.1) (1.0.1)\n",
            "Requirement already satisfied: markdown>=2.6.8 in /usr/local/lib/python3.7/dist-packages (from tensorboard<1.14.0,>=1.13.0->tensorflow==1.13.1) (3.3.6)\n",
            "Requirement already satisfied: importlib-metadata>=4.4 in /usr/local/lib/python3.7/dist-packages (from markdown>=2.6.8->tensorboard<1.14.0,>=1.13.0->tensorflow==1.13.1) (4.11.0)\n",
            "Requirement already satisfied: zipp>=0.5 in /usr/local/lib/python3.7/dist-packages (from importlib-metadata>=4.4->markdown>=2.6.8->tensorboard<1.14.0,>=1.13.0->tensorflow==1.13.1) (3.7.0)\n",
            "Requirement already satisfied: typing-extensions>=3.6.4 in /usr/local/lib/python3.7/dist-packages (from importlib-metadata>=4.4->markdown>=2.6.8->tensorboard<1.14.0,>=1.13.0->tensorflow==1.13.1) (3.10.0.2)\n",
            "Requirement already satisfied: mock>=2.0.0 in /usr/local/lib/python3.7/dist-packages (from tensorflow-estimator<1.14.0rc0,>=1.13.0->tensorflow==1.13.1) (4.0.3)\n",
            "Requirement already satisfied: cached-property in /usr/local/lib/python3.7/dist-packages (from h5py->keras-applications>=1.0.6->tensorflow==1.13.1) (1.5.2)\n"
          ]
        }
      ]
    },
    {
      "cell_type": "code",
      "source": [
        "import numpy as np\n",
        "import tensorflow as tf\n",
        "import keras \n",
        "from keras.layers import Dense, Conv2D, MaxPool2D, UpSampling2D, Dropout, Input\n",
        "from keras.preprocessing.image import img_to_array\n",
        "import matplotlib.pyplot as plt\n",
        "import cv2\n",
        "from tqdm import tqdm \n",
        "import os\n",
        "import re \n",
        "# to get the files in proper order\n",
        "def sorted_alphanumeric(data):  \n",
        "    convert = lambda text: int(text) if text.isdigit() else text.lower()\n",
        "    alphanum_key = lambda key: [convert(c) for c in re.split('([0-9]+)',key)]\n",
        "    return sorted(data,key = alphanum_key)\n",
        "\n",
        "\n",
        "# defining the size of image \n",
        "SIZE = 64\n",
        "\n",
        "image_path = '/content/photos'\n",
        "img_array = []\n",
        "\n",
        "sketch_path = '/content/sketches'\n",
        "sketch_array = []\n",
        "\n",
        "image_file = sorted_alphanumeric(os.listdir(image_path))\n",
        "sketch_file = sorted_alphanumeric(os.listdir(sketch_path))\n",
        "\n",
        "\n",
        "for i in tqdm(image_file):\n",
        "    image = cv2.imread(image_path + '/' + i,1)\n",
        "    print(\"Image is \",image)\n",
        "    \n",
        "    # as opencv load image in bgr format converting it to rgb\n",
        "    image = cv2.cvtColor(image, cv2.COLOR_BGR2RGB)\n",
        "    \n",
        "    # resizing images \n",
        "    image = cv2.resize(image, (SIZE, SIZE))\n",
        "    \n",
        "    # normalizing image \n",
        "    image = image.astype('float32') / 255.0\n",
        "    \n",
        "    #appending normal normal image    \n",
        "    img_array.append(img_to_array(image))\n",
        "    # Image Augmentation\n",
        "    \n",
        "    # horizontal flip \n",
        "    img1 = cv2.flip(image,1)\n",
        "    img_array.append(img_to_array(img1))\n",
        "     #vertical flip \n",
        "    img2 = cv2.flip(image,-1)\n",
        "    img_array.append(img_to_array(img2))\n",
        "     #vertical flip \n",
        "    img3 = cv2.flip(image,-1)\n",
        "    # horizontal flip\n",
        "    img3 = cv2.flip(img3,1)\n",
        "    img_array.append(img_to_array(img3))\n",
        "    # rotate clockwise \n",
        "    img4 = cv2.rotate(image, cv2.ROTATE_90_CLOCKWISE)\n",
        "    img_array.append(img_to_array(img4))\n",
        "    # flip rotated image \n",
        "    img5 = cv2.flip(img4,1)\n",
        "    img_array.append(img_to_array(img5))\n",
        "     # rotate anti clockwise \n",
        "    img6 = cv2.rotate(image, cv2.ROTATE_90_COUNTERCLOCKWISE)\n",
        "    img_array.append(img_to_array(img6))\n",
        "    # flip rotated image \n",
        "    img7 = cv2.flip(img6,1)\n",
        "    img_array.append(img_to_array(img7))\n",
        "  \n",
        "    \n",
        "for i in tqdm(sketch_file):\n",
        "    image = cv2.imread(sketch_path + '/' + i,1)\n",
        "    \n",
        "    # as opencv load image in bgr format converting it to rgb\n",
        "    image = cv2.cvtColor(image, cv2.COLOR_BGR2RGB)\n",
        "    \n",
        "    # resizing images \n",
        "    image = cv2.resize(image, (SIZE, SIZE))\n",
        "    \n",
        "    # normalizing image \n",
        "    image = image.astype('float32') / 255.0\n",
        "    # appending normal sketch image\n",
        "    sketch_array.append(img_to_array(image))\n",
        "    \n",
        "    #Image Augmentation\n",
        "    # horizontal flip \n",
        "    img1 = cv2.flip(image,1)\n",
        "    sketch_array.append(img_to_array(img1))\n",
        "     #vertical flip \n",
        "    img2 = cv2.flip(image,-1)\n",
        "    sketch_array.append(img_to_array(img2))\n",
        "     #vertical flip \n",
        "    img3 = cv2.flip(image,-1)\n",
        "    # horizontal flip\n",
        "    img3 = cv2.flip(img3,1)\n",
        "    sketch_array.append(img_to_array(img3))\n",
        "    # rotate clockwise \n",
        "    img4 = cv2.rotate(image, cv2.ROTATE_90_CLOCKWISE)\n",
        "    sketch_array.append(img_to_array(img4))\n",
        "    # flip rotated image \n",
        "    img5 = cv2.flip(img4,1)\n",
        "    sketch_array.append(img_to_array(img5))\n",
        "     # rotate anti clockwise \n",
        "    img6 = cv2.rotate(image, cv2.ROTATE_90_COUNTERCLOCKWISE)\n",
        "    sketch_array.append(img_to_array(img6))\n",
        "    # flip rotated image \n",
        "    img7 = cv2.flip(img6,1)\n",
        "    sketch_array.append(img_to_array(img7))"
      ],
      "metadata": {
        "id": "FDf3KNt3jaNf"
      },
      "execution_count": null,
      "outputs": []
    },
    {
      "cell_type": "code",
      "source": [
        "import tensorflow as tf\n",
        "from tensorflow import keras\n",
        "from tensorflow.keras.layers import Input, Dense, Conv2D, MaxPooling2D, Conv2DTranspose, Flatten\n",
        "from tensorflow.keras.layers import Reshape, BatchNormalization, Lambda\n",
        "from tensorflow.keras.models import Model\n",
        "from tensorflow.keras import backend as K\n",
        "from tensorflow.keras.losses import binary_crossentropy\n",
        "from tensorflow.keras.callbacks import TensorBoard\n",
        "\n",
        "# reparameterization trick\n",
        "# instead of sampling from Q(z|X), sample epsilon = N(0,I)\n",
        "# z = z_mean + sqrt(var) * epsilon\n",
        "def sample_z(args):\n",
        "    \"\"\"Reparameterization trick by sampling from an isotropic unit Gaussian.\n",
        "\n",
        "    # Arguments\n",
        "        args (tensor): mean and log of variance of Q(z|X)\n",
        "\n",
        "    # Returns\n",
        "        z (tensor): sampled latent vector\n",
        "    \"\"\"\n",
        "    mu, sigma = args\n",
        "    batch     = K.shape(mu)[0]\n",
        "    dim       = K.int_shape(mu)[1]\n",
        "    # by default, random_normal has mean = 0 and std = 1.0\n",
        "    eps       = K.random_normal(shape=(batch, dim))\n",
        "    return mu + K.exp(sigma / 2) * eps"
      ],
      "metadata": {
        "id": "2NBxlp38tk_D"
      },
      "execution_count": 18,
      "outputs": []
    },
    {
      "cell_type": "code",
      "source": [
        "image_width  = 64\n",
        "image_height = 64\n",
        "latent_dim   = 2\n",
        "no_epochs    = 30\n",
        "batch_size   = 128\n",
        "num_channels = 3"
      ],
      "metadata": {
        "id": "m32acXUwt2VN"
      },
      "execution_count": 19,
      "outputs": []
    },
    {
      "cell_type": "code",
      "execution_count": null,
      "metadata": {
        "id": "QymTiGk4epvb"
      },
      "outputs": [],
      "source": [
        "\n",
        "# Defining the encoder\n",
        "inputs = Input(shape=(image_width, image_height, 3), name='encoder_input')  \n",
        "\n",
        "x = Conv2D(32, (3, 3), activation='relu', strides=2, padding='same')(inputs)\n",
        "x = BatchNormalization()(x)\n",
        "x = Conv2D(64, (3, 3), activation='relu', strides=2, padding='same')(x)\n",
        "x = BatchNormalization()(x)\n",
        "conv_shape = K.int_shape(x)\n",
        "x = Flatten()(x)\n",
        "x = Dense(16)(x)\n",
        "x = BatchNormalization()(x)\n",
        "mu = Dense(latent_dim, name='latent_mu')(x)\n",
        "sigma = Dense(latent_dim, name='latent_sigma')(x)\n",
        "\n",
        "# use reparameterization trick to push the sampling out as input\n",
        "z  = Lambda(sample_z, output_shape=(latent_dim, ), name='z')([mu, sigma])\n",
        "\n",
        "\n",
        "encoder = Model(inputs, [mu, sigma, z], name='encoder')\n",
        "encoder.summary()"
      ]
    },
    {
      "cell_type": "code",
      "source": [
        "conv_shape"
      ],
      "metadata": {
        "id": "bcZmpRGNXJeM",
        "outputId": "34ee0ce8-aa7b-42e1-e49b-07dcb59fef1f",
        "colab": {
          "base_uri": "https://localhost:8080/"
        }
      },
      "execution_count": 21,
      "outputs": [
        {
          "output_type": "execute_result",
          "data": {
            "text/plain": [
              "(None, 16, 16, 64)"
            ]
          },
          "metadata": {},
          "execution_count": 21
        }
      ]
    },
    {
      "cell_type": "code",
      "source": [
        "# Defining decoder\n",
        "d_i   = Input(shape=(latent_dim, ), name='decoder_input')\n",
        "x     = Dense(conv_shape[1] * conv_shape[2] * conv_shape[3], activation='relu')(d_i)\n",
        "x     = BatchNormalization()(x)\n",
        "x     = Reshape((conv_shape[1], conv_shape[2], conv_shape[3]))(x)\n",
        "cx    = Conv2DTranspose(64, (3, 3), strides=2, padding='same', activation='relu')(x)\n",
        "cx    = BatchNormalization()(cx)\n",
        "cx    = Conv2DTranspose(32, (3, 3), strides=2, padding='same', activation='relu')(x)\n",
        "cx    = BatchNormalization()(cx)\n",
        "cx    = Conv2DTranspose(16, (3, 3), strides=2, padding='same', activation='relu')(x)\n",
        "cx    = BatchNormalization()(cx)\n",
        "cx    = Conv2DTranspose(8, (3, 3), strides=2, padding='same',  activation='relu')(cx)\n",
        "cx    = BatchNormalization()(cx)\n",
        "o     = Conv2DTranspose(3, (3, 3), activation='sigmoid', padding='same', name='decoder_output')(cx)\n",
        "\n",
        "# Instantiate decoder\n",
        "decoder = Model(d_i, o, name='decoder')\n",
        "decoder.summary()"
      ],
      "metadata": {
        "colab": {
          "base_uri": "https://localhost:8080/"
        },
        "id": "iq6xXT4EjQXl",
        "outputId": "5b5da796-c95f-4639-a594-4cc1e46ff9f5"
      },
      "execution_count": 22,
      "outputs": [
        {
          "output_type": "stream",
          "name": "stdout",
          "text": [
            "_________________________________________________________________\n",
            "Layer (type)                 Output Shape              Param #   \n",
            "=================================================================\n",
            "decoder_input (InputLayer)   (None, 2)                 0         \n",
            "_________________________________________________________________\n",
            "dense_10 (Dense)             (None, 16384)             49152     \n",
            "_________________________________________________________________\n",
            "batch_normalization_v1_37 (B (None, 16384)             65536     \n",
            "_________________________________________________________________\n",
            "reshape_5 (Reshape)          (None, 16, 16, 64)        0         \n",
            "_________________________________________________________________\n",
            "conv2d_transpose_17 (Conv2DT (None, 32, 32, 16)        9232      \n",
            "_________________________________________________________________\n",
            "batch_normalization_v1_40 (B (None, 32, 32, 16)        64        \n",
            "_________________________________________________________________\n",
            "conv2d_transpose_18 (Conv2DT (None, 64, 64, 8)         1160      \n",
            "_________________________________________________________________\n",
            "batch_normalization_v1_41 (B (None, 64, 64, 8)         32        \n",
            "_________________________________________________________________\n",
            "decoder_output (Conv2DTransp (None, 64, 64, 3)         219       \n",
            "=================================================================\n",
            "Total params: 125,395\n",
            "Trainable params: 92,579\n",
            "Non-trainable params: 32,816\n",
            "_________________________________________________________________\n"
          ]
        }
      ]
    },
    {
      "cell_type": "code",
      "source": [
        "# Build VAE model\n",
        "outputs = decoder(encoder(inputs)[2])\n",
        "vae = Model(inputs, outputs, name='vae')\n",
        "vae.summary()"
      ],
      "metadata": {
        "colab": {
          "base_uri": "https://localhost:8080/"
        },
        "id": "vStF6Bn5jTeR",
        "outputId": "deeb0b43-25fc-40a2-8636-7919ed921679"
      },
      "execution_count": 23,
      "outputs": [
        {
          "output_type": "stream",
          "name": "stdout",
          "text": [
            "_________________________________________________________________\n",
            "Layer (type)                 Output Shape              Param #   \n",
            "=================================================================\n",
            "encoder_input (InputLayer)   (None, 64, 64, 3)         0         \n",
            "_________________________________________________________________\n",
            "encoder (Model)              [(None, 2), (None, 2), (N 282068    \n",
            "_________________________________________________________________\n",
            "decoder (Model)              (None, 64, 64, 3)         125395    \n",
            "=================================================================\n",
            "Total params: 407,463\n",
            "Trainable params: 374,423\n",
            "Non-trainable params: 33,040\n",
            "_________________________________________________________________\n"
          ]
        }
      ]
    },
    {
      "cell_type": "code",
      "source": [
        "def vae_loss(true, pred):\n",
        "    # Reconstruction loss\n",
        "    reconstruction_loss = binary_crossentropy(K.flatten(true), K.flatten(pred)) * image_width * image_height\n",
        "    # KL divergence loss\n",
        "    kl_loss = 1 + sigma - K.square(mu) - K.exp(sigma)\n",
        "    kl_loss = K.sum(kl_loss, axis=-1)\n",
        "    kl_loss *= -0.5\n",
        "    # Total loss = 50% rec + 50% KL divergence loss\n",
        "    return K.mean(reconstruction_loss + kl_loss)"
      ],
      "metadata": {
        "id": "vkkOBivwjWSO"
      },
      "execution_count": 24,
      "outputs": []
    },
    {
      "cell_type": "code",
      "source": [
        "print(\"Total number of sketch images:\",len(sketch_array))\n",
        "print(\"Total number of images:\",len(img_array))\n",
        "train_sketch_image = sketch_array[:1400]\n",
        "train_image = img_array[:1400]\n",
        "test_sketch_image = sketch_array[1400:]\n",
        "test_image = img_array[1400:]\n",
        "# reshaping\n",
        "train_sketch_image = np.reshape(train_sketch_image,(len(train_sketch_image),SIZE,SIZE,3))\n",
        "train_image = np.reshape(train_image, (len(train_image),SIZE,SIZE,3))\n",
        "print('Train color image shape:',train_image.shape)\n",
        "test_sketch_image = np.reshape(test_sketch_image,(len(test_sketch_image),SIZE,SIZE,3))\n",
        "test_image = np.reshape(test_image, (len(test_image),SIZE,SIZE,3))\n",
        "print('Test color image shape',test_image.shape)"
      ],
      "metadata": {
        "colab": {
          "base_uri": "https://localhost:8080/"
        },
        "id": "8LKP0GP6je4-",
        "outputId": "d4fbbb59-20f4-4319-c24d-a5c0926f5d21"
      },
      "execution_count": 26,
      "outputs": [
        {
          "output_type": "stream",
          "name": "stdout",
          "text": [
            "Total number of sketch images: 1504\n",
            "Total number of images: 1504\n",
            "Train color image shape: (1400, 64, 64, 3)\n",
            "Test color image shape (104, 64, 64, 3)\n"
          ]
        }
      ]
    },
    {
      "cell_type": "markdown",
      "source": [
        "**Modelling for Face To Sketch**"
      ],
      "metadata": {
        "id": "eHi4GDl93o6M"
      }
    },
    {
      "cell_type": "code",
      "source": [
        "# vae.compile(optimizer='adam', loss=vae_loss)\n",
        "vae.compile(optimizer='rmsprop', loss= vae_loss)\n",
        "encoder.compile(optimizer = 'rmsprop', loss = vae_loss)\n",
        "decoder.compile(optimizer = 'rmsprop', loss = vae_loss)\n",
        "vae.fit(train_image, train_sketch_image,\n",
        "        epochs=100,\n",
        "        batch_size=80,\n",
        "        validation_data=(test_image, test_sketch_image))\n",
        "\n",
        "# Randomly sample one or more charachters and plot them\n",
        "random_chars = [np.random.normal(0, 1, latent_dim) for _ in range(1)]\n",
        "imgs = []\n",
        "for char in random_chars:\n",
        "    char = char.reshape(-1,2)\n",
        "    imgs.append(decoder.predict(char))\n",
        "\n",
        "imgs = [np.reshape(img,(image_width, image_height, 3)) for img in imgs]\n",
        "for img in imgs:\n",
        "    plt.figure(figsize=(2,2))\n",
        "    plt.axis('off')\n",
        "    plt.imshow(img, cmap='gray')"
      ],
      "metadata": {
        "colab": {
          "base_uri": "https://localhost:8080/",
          "height": 1000
        },
        "id": "zVAsCO84jfjc",
        "outputId": "ddfa8c9d-6270-4ee3-e75f-9a499381d8c1"
      },
      "execution_count": 29,
      "outputs": [
        {
          "output_type": "stream",
          "name": "stdout",
          "text": [
            "Train on 1400 samples, validate on 104 samples\n",
            "Epoch 1/100\n",
            "1400/1400 [==============================] - 21s 15ms/sample - loss: 1583.1036 - val_loss: 1845.5901\n",
            "Epoch 2/100\n",
            "1400/1400 [==============================] - 19s 14ms/sample - loss: 1564.6477 - val_loss: 1820.1430\n",
            "Epoch 3/100\n",
            "1400/1400 [==============================] - 19s 14ms/sample - loss: 1560.2764 - val_loss: 1781.5997\n",
            "Epoch 4/100\n",
            "1400/1400 [==============================] - 19s 14ms/sample - loss: 1555.0546 - val_loss: 1742.6144\n",
            "Epoch 5/100\n",
            "1400/1400 [==============================] - 19s 14ms/sample - loss: 1562.9273 - val_loss: 1697.0452\n",
            "Epoch 6/100\n",
            "1400/1400 [==============================] - 19s 14ms/sample - loss: 1546.3738 - val_loss: 1732.0474\n",
            "Epoch 7/100\n",
            "1400/1400 [==============================] - 19s 14ms/sample - loss: 1542.0278 - val_loss: 1675.5368\n",
            "Epoch 8/100\n",
            "1400/1400 [==============================] - 19s 14ms/sample - loss: 1542.3428 - val_loss: 1629.8118\n",
            "Epoch 9/100\n",
            "1400/1400 [==============================] - 19s 14ms/sample - loss: 1539.8919 - val_loss: 1607.5720\n",
            "Epoch 10/100\n",
            "1400/1400 [==============================] - 19s 14ms/sample - loss: 1539.0541 - val_loss: 1587.0621\n",
            "Epoch 11/100\n",
            "1400/1400 [==============================] - 19s 14ms/sample - loss: 1534.8666 - val_loss: 1592.3715\n",
            "Epoch 12/100\n",
            "1400/1400 [==============================] - 19s 14ms/sample - loss: 1531.0833 - val_loss: 1547.0025\n",
            "Epoch 13/100\n",
            "1400/1400 [==============================] - 19s 14ms/sample - loss: 1531.8318 - val_loss: 1528.3433\n",
            "Epoch 14/100\n",
            "1400/1400 [==============================] - 20s 14ms/sample - loss: 1529.7756 - val_loss: 1529.0024\n",
            "Epoch 15/100\n",
            "1400/1400 [==============================] - 19s 14ms/sample - loss: 1531.2171 - val_loss: 1542.4497\n",
            "Epoch 16/100\n",
            "1400/1400 [==============================] - 19s 14ms/sample - loss: 1522.4669 - val_loss: 1496.2222\n",
            "Epoch 17/100\n",
            "1400/1400 [==============================] - 19s 14ms/sample - loss: 1518.9389 - val_loss: 1485.7003\n",
            "Epoch 18/100\n",
            "1400/1400 [==============================] - 19s 14ms/sample - loss: 1515.0270 - val_loss: 1504.2075\n",
            "Epoch 19/100\n",
            "1400/1400 [==============================] - 19s 14ms/sample - loss: 1515.0141 - val_loss: 1486.2767\n",
            "Epoch 20/100\n",
            "1400/1400 [==============================] - 19s 14ms/sample - loss: 1511.3879 - val_loss: 1481.8036\n",
            "Epoch 21/100\n",
            "1400/1400 [==============================] - 19s 14ms/sample - loss: 1512.8641 - val_loss: 1471.2791\n",
            "Epoch 22/100\n",
            "1400/1400 [==============================] - 19s 14ms/sample - loss: 1507.8288 - val_loss: 1477.1395\n",
            "Epoch 23/100\n",
            "1400/1400 [==============================] - 19s 14ms/sample - loss: 1511.7988 - val_loss: 1471.3292\n",
            "Epoch 24/100\n",
            "1400/1400 [==============================] - 19s 14ms/sample - loss: 1508.6102 - val_loss: 1479.0465\n",
            "Epoch 25/100\n",
            "1400/1400 [==============================] - 19s 14ms/sample - loss: 1513.4514 - val_loss: 1479.9665\n",
            "Epoch 26/100\n",
            "1400/1400 [==============================] - 19s 14ms/sample - loss: 1506.5907 - val_loss: 1517.4300\n",
            "Epoch 27/100\n",
            "1400/1400 [==============================] - 19s 14ms/sample - loss: 1496.6765 - val_loss: 1479.5376\n",
            "Epoch 28/100\n",
            "1400/1400 [==============================] - 19s 14ms/sample - loss: 1506.2228 - val_loss: 1480.6956\n",
            "Epoch 29/100\n",
            "1400/1400 [==============================] - 19s 14ms/sample - loss: 1503.4486 - val_loss: 1502.3331\n",
            "Epoch 30/100\n",
            "1400/1400 [==============================] - 19s 14ms/sample - loss: 1504.7584 - val_loss: 1497.2295\n",
            "Epoch 31/100\n",
            "1400/1400 [==============================] - 19s 14ms/sample - loss: 1504.4141 - val_loss: 1476.5181\n",
            "Epoch 32/100\n",
            "1400/1400 [==============================] - 19s 14ms/sample - loss: 1491.8720 - val_loss: 1495.9497\n",
            "Epoch 33/100\n",
            "1400/1400 [==============================] - 19s 14ms/sample - loss: 1485.9902 - val_loss: 1482.6123\n",
            "Epoch 34/100\n",
            "1400/1400 [==============================] - 19s 14ms/sample - loss: 1491.3698 - val_loss: 1494.3013\n",
            "Epoch 35/100\n",
            "1400/1400 [==============================] - 19s 14ms/sample - loss: 1497.2962 - val_loss: 1478.1571\n",
            "Epoch 36/100\n",
            "1400/1400 [==============================] - 19s 14ms/sample - loss: 1496.1157 - val_loss: 1497.2152\n",
            "Epoch 37/100\n",
            "1400/1400 [==============================] - 19s 14ms/sample - loss: 1487.3113 - val_loss: 1496.5429\n",
            "Epoch 38/100\n",
            "1400/1400 [==============================] - 19s 14ms/sample - loss: 1487.6882 - val_loss: 1495.9592\n",
            "Epoch 39/100\n",
            "1400/1400 [==============================] - 19s 14ms/sample - loss: 1492.5852 - val_loss: 1507.0386\n",
            "Epoch 40/100\n",
            "1400/1400 [==============================] - 19s 14ms/sample - loss: 1487.8474 - val_loss: 1493.1730\n",
            "Epoch 41/100\n",
            "1400/1400 [==============================] - 19s 14ms/sample - loss: 1488.5905 - val_loss: 1496.1454\n",
            "Epoch 42/100\n",
            "1400/1400 [==============================] - 19s 14ms/sample - loss: 1480.4430 - val_loss: 1488.6430\n",
            "Epoch 43/100\n",
            "1400/1400 [==============================] - 19s 14ms/sample - loss: 1485.3999 - val_loss: 1491.4467\n",
            "Epoch 44/100\n",
            "1400/1400 [==============================] - 19s 14ms/sample - loss: 1480.5154 - val_loss: 1481.8218\n",
            "Epoch 45/100\n",
            "1400/1400 [==============================] - 19s 14ms/sample - loss: 1486.2535 - val_loss: 1497.2299\n",
            "Epoch 46/100\n",
            "1400/1400 [==============================] - 19s 14ms/sample - loss: 1478.5339 - val_loss: 1495.5320\n",
            "Epoch 47/100\n",
            "1400/1400 [==============================] - 19s 14ms/sample - loss: 1478.1804 - val_loss: 1498.2810\n",
            "Epoch 48/100\n",
            "1400/1400 [==============================] - 19s 14ms/sample - loss: 1482.3138 - val_loss: 1529.2657\n",
            "Epoch 49/100\n",
            "1400/1400 [==============================] - 19s 14ms/sample - loss: 1478.7114 - val_loss: 1485.4685\n",
            "Epoch 50/100\n",
            "1400/1400 [==============================] - 19s 14ms/sample - loss: 1470.6134 - val_loss: 1488.1630\n",
            "Epoch 51/100\n",
            "1400/1400 [==============================] - 19s 14ms/sample - loss: 1473.0663 - val_loss: 1478.6589\n",
            "Epoch 52/100\n",
            "1400/1400 [==============================] - 19s 14ms/sample - loss: 1473.5586 - val_loss: 1504.3432\n",
            "Epoch 53/100\n",
            "1400/1400 [==============================] - 19s 14ms/sample - loss: 1474.5826 - val_loss: 1492.9255\n",
            "Epoch 54/100\n",
            "1400/1400 [==============================] - 19s 14ms/sample - loss: 1476.1986 - val_loss: 1501.2969\n",
            "Epoch 55/100\n",
            "1400/1400 [==============================] - 19s 14ms/sample - loss: 1470.3019 - val_loss: 1491.4416\n",
            "Epoch 56/100\n",
            "1400/1400 [==============================] - 19s 14ms/sample - loss: 1468.5573 - val_loss: 1501.0620\n",
            "Epoch 57/100\n",
            "1400/1400 [==============================] - 19s 14ms/sample - loss: 1474.8444 - val_loss: 1488.2454\n",
            "Epoch 58/100\n",
            "1400/1400 [==============================] - 19s 14ms/sample - loss: 1472.6109 - val_loss: 1491.2365\n",
            "Epoch 59/100\n",
            "1400/1400 [==============================] - 19s 14ms/sample - loss: 1468.8753 - val_loss: 1527.7495\n",
            "Epoch 60/100\n",
            "1400/1400 [==============================] - 19s 14ms/sample - loss: 1470.8282 - val_loss: 1495.8697\n",
            "Epoch 61/100\n",
            "1400/1400 [==============================] - 19s 14ms/sample - loss: 1467.8610 - val_loss: 1498.4847\n",
            "Epoch 62/100\n",
            "1400/1400 [==============================] - 19s 14ms/sample - loss: 1466.5480 - val_loss: 1522.7398\n",
            "Epoch 63/100\n",
            "1400/1400 [==============================] - 19s 14ms/sample - loss: 1476.7377 - val_loss: 1524.8781\n",
            "Epoch 64/100\n",
            "1400/1400 [==============================] - 19s 14ms/sample - loss: 1463.0965 - val_loss: 1516.2517\n",
            "Epoch 65/100\n",
            "1400/1400 [==============================] - 19s 14ms/sample - loss: 1465.5905 - val_loss: 1528.9243\n",
            "Epoch 66/100\n",
            "1400/1400 [==============================] - 19s 14ms/sample - loss: 1463.3545 - val_loss: 1513.0011\n",
            "Epoch 67/100\n",
            "1400/1400 [==============================] - 19s 14ms/sample - loss: 1461.9002 - val_loss: 1511.0089\n",
            "Epoch 68/100\n",
            "1400/1400 [==============================] - 19s 14ms/sample - loss: 1462.4052 - val_loss: 1497.0831\n",
            "Epoch 69/100\n",
            "1400/1400 [==============================] - 19s 14ms/sample - loss: 1471.8141 - val_loss: 1502.7370\n",
            "Epoch 70/100\n",
            "1400/1400 [==============================] - 19s 14ms/sample - loss: 1458.8270 - val_loss: 1498.5910\n",
            "Epoch 71/100\n",
            "1400/1400 [==============================] - 19s 14ms/sample - loss: 1459.3943 - val_loss: 1514.8673\n",
            "Epoch 72/100\n",
            "1400/1400 [==============================] - 19s 14ms/sample - loss: 1463.1112 - val_loss: 1508.9615\n",
            "Epoch 73/100\n",
            "1400/1400 [==============================] - 19s 14ms/sample - loss: 1466.0022 - val_loss: 1524.7792\n",
            "Epoch 74/100\n",
            "1400/1400 [==============================] - 19s 14ms/sample - loss: 1461.0188 - val_loss: 1526.1492\n",
            "Epoch 75/100\n",
            "1400/1400 [==============================] - 19s 14ms/sample - loss: 1462.3338 - val_loss: 1504.5936\n",
            "Epoch 76/100\n",
            "1400/1400 [==============================] - 19s 14ms/sample - loss: 1471.6699 - val_loss: 1512.0534\n",
            "Epoch 77/100\n",
            "1400/1400 [==============================] - 19s 14ms/sample - loss: 1457.5722 - val_loss: 1517.9450\n",
            "Epoch 78/100\n",
            "1400/1400 [==============================] - 19s 14ms/sample - loss: 1461.1312 - val_loss: 1498.2044\n",
            "Epoch 79/100\n",
            "1400/1400 [==============================] - 19s 14ms/sample - loss: 1460.9738 - val_loss: 1515.7320\n",
            "Epoch 80/100\n",
            "1400/1400 [==============================] - 19s 14ms/sample - loss: 1463.2742 - val_loss: 1513.4461\n",
            "Epoch 81/100\n",
            "1400/1400 [==============================] - 19s 14ms/sample - loss: 1459.8509 - val_loss: 1518.2820\n",
            "Epoch 82/100\n",
            "1400/1400 [==============================] - 19s 14ms/sample - loss: 1455.9966 - val_loss: 1515.7955\n",
            "Epoch 83/100\n",
            "1400/1400 [==============================] - 19s 13ms/sample - loss: 1460.6666 - val_loss: 1504.0214\n",
            "Epoch 84/100\n",
            "1400/1400 [==============================] - 19s 14ms/sample - loss: 1459.7020 - val_loss: 1501.0794\n",
            "Epoch 85/100\n",
            "1400/1400 [==============================] - 19s 14ms/sample - loss: 1458.8227 - val_loss: 1497.5609\n",
            "Epoch 86/100\n",
            "1400/1400 [==============================] - 19s 14ms/sample - loss: 1456.2705 - val_loss: 1504.0702\n",
            "Epoch 87/100\n",
            "1400/1400 [==============================] - 19s 14ms/sample - loss: 1457.9896 - val_loss: 1497.3352\n",
            "Epoch 88/100\n",
            "1400/1400 [==============================] - 19s 13ms/sample - loss: 1457.5332 - val_loss: 1509.6663\n",
            "Epoch 89/100\n",
            "1400/1400 [==============================] - 19s 14ms/sample - loss: 1456.6013 - val_loss: 1515.4380\n",
            "Epoch 90/100\n",
            "1400/1400 [==============================] - 19s 14ms/sample - loss: 1461.4906 - val_loss: 1508.2411\n",
            "Epoch 91/100\n",
            "1400/1400 [==============================] - 19s 14ms/sample - loss: 1461.2916 - val_loss: 1507.8767\n",
            "Epoch 92/100\n",
            "1400/1400 [==============================] - 19s 13ms/sample - loss: 1454.2910 - val_loss: 1487.9011\n",
            "Epoch 93/100\n",
            "1400/1400 [==============================] - 19s 14ms/sample - loss: 1453.6978 - val_loss: 1500.4431\n",
            "Epoch 94/100\n",
            "1400/1400 [==============================] - 19s 14ms/sample - loss: 1458.7577 - val_loss: 1507.0646\n",
            "Epoch 95/100\n",
            "1400/1400 [==============================] - 19s 14ms/sample - loss: 1455.4359 - val_loss: 1534.2892\n",
            "Epoch 96/100\n",
            "1400/1400 [==============================] - 19s 14ms/sample - loss: 1453.1186 - val_loss: 1514.4152\n",
            "Epoch 97/100\n",
            "1400/1400 [==============================] - 19s 14ms/sample - loss: 1456.8411 - val_loss: 1535.6398\n",
            "Epoch 98/100\n",
            "1400/1400 [==============================] - 19s 14ms/sample - loss: 1456.2983 - val_loss: 1502.9992\n",
            "Epoch 99/100\n",
            "1400/1400 [==============================] - 19s 14ms/sample - loss: 1449.7496 - val_loss: 1508.6331\n",
            "Epoch 100/100\n",
            "1400/1400 [==============================] - 19s 14ms/sample - loss: 1452.9749 - val_loss: 1508.7436\n"
          ]
        },
        {
          "output_type": "display_data",
          "data": {
            "image/png": "[encoded data removed]",
            "text/plain": [
              "<Figure size 144x144 with 1 Axes>"
            ]
          },
          "metadata": {
            "needs_background": "light"
          }
        }
      ]
    },
    {
      "cell_type": "code",
      "source": [
        ""
      ],
      "metadata": {
        "id": "phK0BoKCGcn8"
      },
      "execution_count": null,
      "outputs": []
    },
    {
      "cell_type": "code",
      "source": [
        "# Randomly sample one or more charachters and plot them\n",
        "random_chars = [np.random.normal(0, 1, latent_dim) for _ in range(1)]\n",
        "imgs = []\n",
        "for char in random_chars:\n",
        "    char = char.reshape(-1,2)\n",
        "    imgs.append(decoder.predict(char))\n",
        "\n",
        "print(random_chars[0].shape)\n",
        "imgs = [np.reshape(img,(image_width, image_height, 3)) for img in imgs]\n",
        "for img in imgs:\n",
        "    plt.figure(figsize=(2,2))\n",
        "    plt.axis('off')\n",
        "    plt.imshow(img, cmap='gray')\n",
        "\n",
        "# plt.imshow(test_image[0].reshape(256, 256, 3))"
      ],
      "metadata": {
        "colab": {
          "base_uri": "https://localhost:8080/",
          "height": 158
        },
        "id": "-sVrWC28jkyn",
        "outputId": "737a056c-5bd5-4c7e-af3d-42e05740ee80"
      },
      "execution_count": 52,
      "outputs": [
        {
          "output_type": "stream",
          "name": "stdout",
          "text": [
            "(2,)\n"
          ]
        },
        {
          "output_type": "display_data",
          "data": {
            "image/png": "[encoded data removed]",
            "text/plain": [
              "<Figure size 144x144 with 1 Axes>"
            ]
          },
          "metadata": {
            "needs_background": "light"
          }
        }
      ]
    },
    {
      "cell_type": "code",
      "source": [
        "random_chars"
      ],
      "metadata": {
        "id": "afQnnI0T_J0B",
        "outputId": "083042d2-24a6-4f8e-86ce-3ce277152be9",
        "colab": {
          "base_uri": "https://localhost:8080/"
        }
      },
      "execution_count": null,
      "outputs": [
        {
          "output_type": "execute_result",
          "data": {
            "text/plain": [
              "[array([ 0.46834664, -0.92630004])]"
            ]
          },
          "metadata": {},
          "execution_count": 44
        }
      ]
    },
    {
      "cell_type": "markdown",
      "source": [
        "**Modelling for Sketch To Face**"
      ],
      "metadata": {
        "id": "iXATrEy03wYA"
      }
    },
    {
      "cell_type": "code",
      "source": [
        "# vae.compile(optimizer='adam', loss=vae_loss)\n",
        "vae.compile(optimizer='rmsprop', loss= vae_loss)\n",
        "encoder.compile(optimizer = 'rmsprop', loss = vae_loss)\n",
        "decoder.compile(optimizer = 'rmsprop', loss = vae_loss)\n",
        "vae.fit(train_sketch_image, train_image,\n",
        "        epochs=100,\n",
        "        batch_size=80,\n",
        "        validation_data=(test_sketch_image, test_image))\n",
        "\n",
        "random_chars = [np.random.normal(0, 1, latent_dim) for _ in range(1)]\n",
        "imgs = []\n",
        "for char in random_chars:\n",
        "    char = char.reshape(-1,2)\n",
        "    imgs.append(decoder.predict(char))\n",
        "\n",
        "imgs = [np.reshape(img,(image_width, image_height, 3)) for img in imgs]\n",
        "for img in imgs:\n",
        "    plt.figure(figsize=(2,2))\n",
        "    plt.axis('off')\n",
        "    plt.imshow(img, cmap='gray')"
      ],
      "metadata": {
        "colab": {
          "base_uri": "https://localhost:8080/",
          "height": 1000
        },
        "id": "1p47sOEl30an",
        "outputId": "d2f0f271-f4a6-45a9-d7b9-2df0977b3107"
      },
      "execution_count": 53,
      "outputs": [
        {
          "output_type": "stream",
          "name": "stdout",
          "text": [
            "Train on 1400 samples, validate on 104 samples\n",
            "Epoch 1/100\n",
            "1400/1400 [==============================] - 22s 15ms/sample - loss: 3179.3527 - val_loss: 2728.7471\n",
            "Epoch 2/100\n",
            "1400/1400 [==============================] - 19s 14ms/sample - loss: 2816.3421 - val_loss: 2499.4242\n",
            "Epoch 3/100\n",
            "1400/1400 [==============================] - 20s 14ms/sample - loss: 2642.7213 - val_loss: 2414.2703\n",
            "Epoch 4/100\n",
            "1400/1400 [==============================] - 19s 14ms/sample - loss: 2534.3347 - val_loss: 2359.1201\n",
            "Epoch 5/100\n",
            "1400/1400 [==============================] - 19s 14ms/sample - loss: 2466.0138 - val_loss: 2351.5602\n",
            "Epoch 6/100\n",
            "1400/1400 [==============================] - 19s 14ms/sample - loss: 2414.4000 - val_loss: 2312.0188\n",
            "Epoch 7/100\n",
            "1400/1400 [==============================] - 19s 14ms/sample - loss: 2364.9218 - val_loss: 2275.3839\n",
            "Epoch 8/100\n",
            "1400/1400 [==============================] - 20s 14ms/sample - loss: 2331.4414 - val_loss: 2259.3258\n",
            "Epoch 9/100\n",
            "1400/1400 [==============================] - 20s 14ms/sample - loss: 2315.3045 - val_loss: 2276.9783\n",
            "Epoch 10/100\n",
            "1400/1400 [==============================] - 20s 14ms/sample - loss: 2302.0540 - val_loss: 2266.8804\n",
            "Epoch 11/100\n",
            "1400/1400 [==============================] - 20s 14ms/sample - loss: 2291.1968 - val_loss: 2254.9596\n",
            "Epoch 12/100\n",
            "1400/1400 [==============================] - 20s 14ms/sample - loss: 2288.9724 - val_loss: 2244.7955\n",
            "Epoch 13/100\n",
            "1400/1400 [==============================] - 20s 15ms/sample - loss: 2282.3451 - val_loss: 2261.1034\n",
            "Epoch 14/100\n",
            "1400/1400 [==============================] - 20s 15ms/sample - loss: 2282.4860 - val_loss: 2212.3027\n",
            "Epoch 15/100\n",
            "1400/1400 [==============================] - 20s 14ms/sample - loss: 2278.1999 - val_loss: 2215.8102\n",
            "Epoch 16/100\n",
            "1400/1400 [==============================] - 20s 14ms/sample - loss: 2273.2780 - val_loss: 2210.1480\n",
            "Epoch 17/100\n",
            "1400/1400 [==============================] - 19s 14ms/sample - loss: 2274.0169 - val_loss: 2205.7009\n",
            "Epoch 18/100\n",
            "1400/1400 [==============================] - 20s 14ms/sample - loss: 2273.2972 - val_loss: 2209.7648\n",
            "Epoch 19/100\n",
            "1400/1400 [==============================] - 19s 14ms/sample - loss: 2273.4248 - val_loss: 2204.6392\n",
            "Epoch 20/100\n",
            "1400/1400 [==============================] - 20s 14ms/sample - loss: 2270.2459 - val_loss: 2202.9768\n",
            "Epoch 21/100\n",
            "1400/1400 [==============================] - 19s 14ms/sample - loss: 2266.3418 - val_loss: 2192.1354\n",
            "Epoch 22/100\n",
            "1400/1400 [==============================] - 19s 14ms/sample - loss: 2262.9965 - val_loss: 2217.3330\n",
            "Epoch 23/100\n",
            "1400/1400 [==============================] - 19s 14ms/sample - loss: 2258.8876 - val_loss: 2199.8915\n",
            "Epoch 24/100\n",
            "1400/1400 [==============================] - 19s 14ms/sample - loss: 2262.9032 - val_loss: 2203.1448\n",
            "Epoch 25/100\n",
            "1400/1400 [==============================] - 20s 14ms/sample - loss: 2261.7290 - val_loss: 2196.7809\n",
            "Epoch 26/100\n",
            "1400/1400 [==============================] - 19s 14ms/sample - loss: 2262.7953 - val_loss: 2232.0636\n",
            "Epoch 27/100\n",
            "1400/1400 [==============================] - 20s 14ms/sample - loss: 2258.5146 - val_loss: 2202.2304\n",
            "Epoch 28/100\n",
            "1400/1400 [==============================] - 19s 14ms/sample - loss: 2253.5281 - val_loss: 2216.5414\n",
            "Epoch 29/100\n",
            "1400/1400 [==============================] - 19s 14ms/sample - loss: 2255.5362 - val_loss: 2209.7997\n",
            "Epoch 30/100\n",
            "1400/1400 [==============================] - 20s 14ms/sample - loss: 2263.1948 - val_loss: 2236.3215\n",
            "Epoch 31/100\n",
            "1400/1400 [==============================] - 19s 14ms/sample - loss: 2260.5303 - val_loss: 2209.4754\n",
            "Epoch 32/100\n",
            "1400/1400 [==============================] - 19s 14ms/sample - loss: 2262.5799 - val_loss: 2205.6863\n",
            "Epoch 33/100\n",
            "1400/1400 [==============================] - 19s 14ms/sample - loss: 2257.8910 - val_loss: 2209.3058\n",
            "Epoch 34/100\n",
            "1400/1400 [==============================] - 19s 14ms/sample - loss: 2255.0918 - val_loss: 2204.9442\n",
            "Epoch 35/100\n",
            "1400/1400 [==============================] - 19s 14ms/sample - loss: 2251.7681 - val_loss: 2214.7902\n",
            "Epoch 36/100\n",
            "1400/1400 [==============================] - 19s 14ms/sample - loss: 2249.8993 - val_loss: 2191.9911\n",
            "Epoch 37/100\n",
            "1400/1400 [==============================] - 19s 14ms/sample - loss: 2249.1873 - val_loss: 2222.1500\n",
            "Epoch 38/100\n",
            "1400/1400 [==============================] - 19s 14ms/sample - loss: 2250.7934 - val_loss: 2213.3379\n",
            "Epoch 39/100\n",
            "1400/1400 [==============================] - 19s 14ms/sample - loss: 2252.9665 - val_loss: 2195.6020\n",
            "Epoch 40/100\n",
            "1400/1400 [==============================] - 19s 14ms/sample - loss: 2244.2292 - val_loss: 2190.6535\n",
            "Epoch 41/100\n",
            "1400/1400 [==============================] - 19s 14ms/sample - loss: 2245.9902 - val_loss: 2209.9219\n",
            "Epoch 42/100\n",
            "1400/1400 [==============================] - 19s 14ms/sample - loss: 2243.8010 - val_loss: 2186.3820\n",
            "Epoch 43/100\n",
            "1400/1400 [==============================] - 19s 14ms/sample - loss: 2246.9110 - val_loss: 2206.8663\n",
            "Epoch 44/100\n",
            "1400/1400 [==============================] - 19s 14ms/sample - loss: 2246.4262 - val_loss: 2197.2017\n",
            "Epoch 45/100\n",
            "1400/1400 [==============================] - 20s 14ms/sample - loss: 2246.1670 - val_loss: 2201.6589\n",
            "Epoch 46/100\n",
            "1400/1400 [==============================] - 19s 14ms/sample - loss: 2249.3441 - val_loss: 2205.7073\n",
            "Epoch 47/100\n",
            "1400/1400 [==============================] - 19s 14ms/sample - loss: 2248.6912 - val_loss: 2195.6981\n",
            "Epoch 48/100\n",
            "1400/1400 [==============================] - 19s 14ms/sample - loss: 2242.1066 - val_loss: 2206.4682\n",
            "Epoch 49/100\n",
            "1400/1400 [==============================] - 20s 14ms/sample - loss: 2242.0822 - val_loss: 2212.6302\n",
            "Epoch 50/100\n",
            "1400/1400 [==============================] - 19s 14ms/sample - loss: 2245.3187 - val_loss: 2211.0918\n",
            "Epoch 51/100\n",
            "1400/1400 [==============================] - 19s 14ms/sample - loss: 2244.9744 - val_loss: 2200.5805\n",
            "Epoch 52/100\n",
            "1400/1400 [==============================] - 19s 14ms/sample - loss: 2250.7910 - val_loss: 2213.4623\n",
            "Epoch 53/100\n",
            "1400/1400 [==============================] - 19s 14ms/sample - loss: 2244.3843 - val_loss: 2198.4851\n",
            "Epoch 54/100\n",
            "1400/1400 [==============================] - 19s 14ms/sample - loss: 2242.1749 - val_loss: 2192.1535\n",
            "Epoch 55/100\n",
            "1400/1400 [==============================] - 19s 14ms/sample - loss: 2245.5777 - val_loss: 2199.8177\n",
            "Epoch 56/100\n",
            "1400/1400 [==============================] - 19s 14ms/sample - loss: 2240.0092 - val_loss: 2211.1270\n",
            "Epoch 57/100\n",
            "1400/1400 [==============================] - 19s 14ms/sample - loss: 2244.6890 - val_loss: 2212.9487\n",
            "Epoch 58/100\n",
            "1400/1400 [==============================] - 19s 14ms/sample - loss: 2244.9776 - val_loss: 2207.3451\n",
            "Epoch 59/100\n",
            "1400/1400 [==============================] - 19s 14ms/sample - loss: 2244.0860 - val_loss: 2192.8987\n",
            "Epoch 60/100\n",
            "1400/1400 [==============================] - 19s 14ms/sample - loss: 2247.1022 - val_loss: 2244.8785\n",
            "Epoch 61/100\n",
            "1400/1400 [==============================] - 19s 14ms/sample - loss: 2239.5747 - val_loss: 2201.5341\n",
            "Epoch 62/100\n",
            "1400/1400 [==============================] - 19s 14ms/sample - loss: 2249.1359 - val_loss: 2224.3945\n",
            "Epoch 63/100\n",
            "1400/1400 [==============================] - 19s 14ms/sample - loss: 2233.7448 - val_loss: 2199.1995\n",
            "Epoch 64/100\n",
            "1400/1400 [==============================] - 19s 14ms/sample - loss: 2244.4590 - val_loss: 2201.5965\n",
            "Epoch 65/100\n",
            "1400/1400 [==============================] - 19s 14ms/sample - loss: 2240.6984 - val_loss: 2204.1988\n",
            "Epoch 66/100\n",
            "1400/1400 [==============================] - 19s 14ms/sample - loss: 2239.7757 - val_loss: 2203.6168\n",
            "Epoch 67/100\n",
            "1400/1400 [==============================] - 19s 14ms/sample - loss: 2243.3683 - val_loss: 2208.4865\n",
            "Epoch 68/100\n",
            "1400/1400 [==============================] - 19s 14ms/sample - loss: 2237.9082 - val_loss: 2218.1973\n",
            "Epoch 69/100\n",
            "1400/1400 [==============================] - 19s 14ms/sample - loss: 2238.9484 - val_loss: 2196.1999\n",
            "Epoch 70/100\n",
            "1400/1400 [==============================] - 19s 14ms/sample - loss: 2235.2145 - val_loss: 2208.5321\n",
            "Epoch 71/100\n",
            "1400/1400 [==============================] - 19s 14ms/sample - loss: 2235.8534 - val_loss: 2204.5592\n",
            "Epoch 72/100\n",
            "1400/1400 [==============================] - 19s 14ms/sample - loss: 2237.1989 - val_loss: 2214.2979\n",
            "Epoch 73/100\n",
            "1400/1400 [==============================] - 19s 14ms/sample - loss: 2234.6532 - val_loss: 2205.2735\n",
            "Epoch 74/100\n",
            "1400/1400 [==============================] - 19s 14ms/sample - loss: 2239.6162 - val_loss: 2201.0765\n",
            "Epoch 75/100\n",
            "1400/1400 [==============================] - 19s 14ms/sample - loss: 2234.0251 - val_loss: 2215.0037\n",
            "Epoch 76/100\n",
            "1400/1400 [==============================] - 19s 14ms/sample - loss: 2229.2047 - val_loss: 2206.6600\n",
            "Epoch 77/100\n",
            "1400/1400 [==============================] - 19s 14ms/sample - loss: 2234.2759 - val_loss: 2228.8416\n",
            "Epoch 78/100\n",
            "1400/1400 [==============================] - 19s 14ms/sample - loss: 2230.8688 - val_loss: 2211.2052\n",
            "Epoch 79/100\n",
            "1400/1400 [==============================] - 21s 15ms/sample - loss: 2237.5115 - val_loss: 2202.2673\n",
            "Epoch 80/100\n",
            "1400/1400 [==============================] - 19s 14ms/sample - loss: 2238.9859 - val_loss: 2191.6421\n",
            "Epoch 81/100\n",
            "1400/1400 [==============================] - 19s 14ms/sample - loss: 2235.1077 - val_loss: 2189.4958\n",
            "Epoch 82/100\n",
            "1400/1400 [==============================] - 19s 14ms/sample - loss: 2234.3081 - val_loss: 2233.2670\n",
            "Epoch 83/100\n",
            "1400/1400 [==============================] - 19s 14ms/sample - loss: 2245.0072 - val_loss: 2204.4093\n",
            "Epoch 84/100\n",
            "1400/1400 [==============================] - 19s 13ms/sample - loss: 2238.4978 - val_loss: 2211.3139\n",
            "Epoch 85/100\n",
            "1400/1400 [==============================] - 19s 14ms/sample - loss: 2229.0783 - val_loss: 2198.7367\n",
            "Epoch 86/100\n",
            "1400/1400 [==============================] - 19s 14ms/sample - loss: 2233.0754 - val_loss: 2224.5114\n",
            "Epoch 87/100\n",
            "1400/1400 [==============================] - 19s 14ms/sample - loss: 2231.5362 - val_loss: 2289.5080\n",
            "Epoch 88/100\n",
            "1400/1400 [==============================] - 19s 14ms/sample - loss: 2238.1942 - val_loss: 2206.4969\n",
            "Epoch 89/100\n",
            "1400/1400 [==============================] - 19s 14ms/sample - loss: 2237.1827 - val_loss: 2243.3142\n",
            "Epoch 90/100\n",
            "1400/1400 [==============================] - 19s 14ms/sample - loss: 2241.1890 - val_loss: 2221.1020\n",
            "Epoch 91/100\n",
            "1400/1400 [==============================] - 19s 14ms/sample - loss: 2233.2754 - val_loss: 2210.5457\n",
            "Epoch 92/100\n",
            "1400/1400 [==============================] - 19s 14ms/sample - loss: 2229.2052 - val_loss: 2192.5842\n",
            "Epoch 93/100\n",
            "1400/1400 [==============================] - 19s 14ms/sample - loss: 2232.1737 - val_loss: 2228.1228\n",
            "Epoch 94/100\n",
            "1400/1400 [==============================] - 19s 14ms/sample - loss: 2232.0781 - val_loss: 2202.2539\n",
            "Epoch 95/100\n",
            "1400/1400 [==============================] - 19s 14ms/sample - loss: 2232.6967 - val_loss: 2194.3539\n",
            "Epoch 96/100\n",
            "1400/1400 [==============================] - 19s 14ms/sample - loss: 2229.5683 - val_loss: 2204.0085\n",
            "Epoch 97/100\n",
            "1400/1400 [==============================] - 19s 14ms/sample - loss: 2234.2749 - val_loss: 2258.4585\n",
            "Epoch 98/100\n",
            "1400/1400 [==============================] - 19s 14ms/sample - loss: 2237.8307 - val_loss: 2232.3742\n",
            "Epoch 99/100\n",
            "1400/1400 [==============================] - 19s 14ms/sample - loss: 2226.7084 - val_loss: 2204.5851\n",
            "Epoch 100/100\n",
            "1400/1400 [==============================] - 19s 14ms/sample - loss: 2238.8523 - val_loss: 2213.6662\n"
          ]
        },
        {
          "output_type": "display_data",
          "data": {
            "image/png": "[encoded data removed]",
            "text/plain": [
              "<Figure size 144x144 with 1 Axes>"
            ]
          },
          "metadata": {
            "needs_background": "light"
          }
        }
      ]
    },
    {
      "cell_type": "code",
      "source": [
        "random_chars = [np.random.normal(0, 1, latent_dim) for _ in range(1)]\n",
        "imgs = []\n",
        "for char in random_chars:\n",
        "    char = char.reshape(-1,2)\n",
        "    imgs.append(decoder.predict(char))\n",
        "\n",
        "imgs = [np.reshape(img,(image_width, image_height, 3)) for img in imgs]\n",
        "for img in imgs:\n",
        "    plt.figure(figsize=(2,2))\n",
        "    plt.axis('off')\n",
        "    plt.imshow(img, cmap='gray')"
      ],
      "metadata": {
        "id": "9PGpEDXhHpCr",
        "outputId": "891a44c8-cc71-4812-afc8-b3ad827a808e",
        "colab": {
          "base_uri": "https://localhost:8080/",
          "height": 140
        }
      },
      "execution_count": 67,
      "outputs": [
        {
          "output_type": "display_data",
          "data": {
            "image/png": "[encoded data removed]",
            "text/plain": [
              "<Figure size 144x144 with 1 Axes>"
            ]
          },
          "metadata": {
            "needs_background": "light"
          }
        }
      ]
    },
    {
      "cell_type": "code",
      "source": [
        ""
      ],
      "metadata": {
        "id": "KGruQj0yA9Bx"
      },
      "execution_count": null,
      "outputs": []
    },
    {
      "cell_type": "code",
      "source": [
        ""
      ],
      "metadata": {
        "id": "KR024gE5A9Nv"
      },
      "execution_count": null,
      "outputs": []
    },
    {
      "cell_type": "code",
      "source": [
        ""
      ],
      "metadata": {
        "id": "ckEMtBoWA9Qy"
      },
      "execution_count": null,
      "outputs": []
    },
    {
      "cell_type": "markdown",
      "source": [
        "**Hyperparameter Tuning**"
      ],
      "metadata": {
        "id": "4UlRjMX5A9kl"
      }
    },
    {
      "cell_type": "code",
      "source": [
        "def encoder(hp):\n",
        "  inputs = Input(shape=(image_width, image_height, 3), name='encoder_input')  \n",
        "\n",
        "  x = Conv2D(filters=hp.Int('conv_1_filter', min_value=32, max_value=128, step=16),\n",
        "             kernel_size=hp.Choice('conv_1_kernel', values = [3,5]),\n",
        "             activation='relu',\n",
        "             strides=2, padding='same')(inputs)\n",
        "  \n",
        "  x = BatchNormalization()(x)\n",
        "\n",
        "  x = Conv2D(filters=hp.Int('conv_2_filter', min_value=64, max_value=128, step=16),\n",
        "             kernel_size=hp.Choice('conv_2_kernel', values = [3,5]),\n",
        "             activation='relu',\n",
        "             strides=2, padding='same')(x)\n",
        "  x = BatchNormalization()(x)\n",
        "  conv_shape = K.int_shape(x)\n",
        "  x = Flatten()(x)\n",
        "  x = Dense(16)(x)\n",
        "  x = BatchNormalization()(x)\n",
        "  mu = Dense(latent_dim, name='latent_mu')(x)\n",
        "  sigma = Dense(latent_dim, name='latent_sigma')(x)\n",
        "\n",
        "  # use reparameterization trick to push the sampling out as input\n",
        "  z  = Lambda(sample_z, output_shape=(latent_dim, ), name='z')([mu, sigma])\n",
        "\n",
        "\n",
        "  encoder = Model(inputs, [mu, sigma, z], name='encoder')\n",
        "  encoder.summary()\n",
        "  \n",
        "  # Defining decoder\n",
        "  d_i   = Input(shape=(latent_dim, ), name='decoder_input')\n",
        "  x     = Dense(conv_shape[1] * conv_shape[2] * conv_shape[3], activation='relu')(d_i)\n",
        "  x     = BatchNormalization()(x)\n",
        "  x     = Reshape((conv_shape[1], conv_shape[2], conv_shape[3]))(x)\n",
        "  cx    = Conv2DTranspose(16, (3, 3), strides=2, padding='same', activation='relu')(x)\n",
        "  cx    = BatchNormalization()(cx)\n",
        "  cx    = Conv2DTranspose(8, (3, 3), strides=2, padding='same',  activation='relu')(cx)\n",
        "  cx    = BatchNormalization()(cx)\n",
        "  o     = Conv2DTranspose(3, (3, 3), activation='sigmoid', padding='same', name='decoder_output')(cx)\n",
        "\n",
        "  # Instantiate decoder\n",
        "  decoder = Model(d_i, o, name='decoder')\n",
        "  decoder.summary()\n",
        "\n",
        "  # Build VAE model\n",
        "  outputs = decoder(encoder(inputs)[2])\n",
        "  vae = Model(inputs, outputs, name='vae')\n",
        "  vae.summary()\n",
        "\n",
        "  vae.compile(optimizer='adam', loss=vae_loss)\n",
        "  return vae\n"
      ],
      "metadata": {
        "id": "7lD4VdM5BBKl"
      },
      "execution_count": null,
      "outputs": []
    },
    {
      "cell_type": "code",
      "source": [
        "tuner_search=RandomSearch(build_model,\n",
        "                          objective='val_acc',\n",
        "                          max_trials=5,directory='/content/output3',project_name=\"FaceToSketch\")\n"
      ],
      "metadata": {
        "id": "a81JFG_tz5iE"
      },
      "execution_count": null,
      "outputs": []
    },
    {
      "cell_type": "code",
      "source": [
        "tuner_search.search(train_sketch_image,train_image,epochs=500,validation_split=0.1, validation_data=(test_sketch_image, test_image))"
      ],
      "metadata": {
        "id": "XYU2wZIDzxJp"
      },
      "execution_count": null,
      "outputs": []
    },
    {
      "cell_type": "code",
      "source": [
        "model=tuner_search.get_best_models(num_models=1)[0]\n",
        "model.summary()"
      ],
      "metadata": {
        "id": "hlp8nRvf4Csl"
      },
      "execution_count": null,
      "outputs": []
    },
    {
      "cell_type": "code",
      "source": [
        "random_chars = [np.random.normal(0, 1, latent_dim) for _ in range(1)]\n",
        "imgs = []\n",
        "for char in random_chars:\n",
        "    char = char.reshape(-1,2)\n",
        "    imgs.append(model.predict(char))\n",
        "\n",
        "imgs = [np.reshape(img,(image_width, image_height, 3)) for img in imgs]\n",
        "for img in imgs:\n",
        "    plt.figure(figsize=(2,2))\n",
        "    plt.axis('off')\n",
        "    plt.imshow(img, cmap='gray')"
      ],
      "metadata": {
        "id": "H77pf0R-4Ucf"
      },
      "execution_count": null,
      "outputs": []
    }
  ]
}