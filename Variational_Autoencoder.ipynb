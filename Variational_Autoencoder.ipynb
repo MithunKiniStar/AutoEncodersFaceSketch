{
  "nbformat": 4,
  "nbformat_minor": 0,
  "metadata": {
    "colab": {
      "name": "Variational Autoencoder.ipynb",
      "provenance": [],
      "authorship_tag": "ABX9TyO+XsFFG4NK5AwFFKKycMtW",
      "include_colab_link": true
    },
    "kernelspec": {
      "name": "python3",
      "display_name": "Python 3"
    },
    "language_info": {
      "name": "python"
    },
    "accelerator": "GPU"
  },
  "cells": [
    {
      "cell_type": "markdown",
      "metadata": {
        "id": "view-in-github",
        "colab_type": "text"
      },
      "source": [
        "<a href=\"https://colab.research.google.com/github/MithunKiniStar/AutoEncodersFaceSketch/blob/main/Variational_Autoencoder.ipynb\" target=\"_parent\"><img src=\"https://colab.research.google.com/assets/colab-badge.svg\" alt=\"Open In Colab\"/></a>"
      ]
    },
    {
      "cell_type": "code",
      "source": [
        "!pip install keras==2.2.4\n",
        "!pip install tensorflow==1.13.1"
      ],
      "metadata": {
        "colab": {
          "base_uri": "https://localhost:8080/"
        },
        "id": "H3zvShavj_j-",
        "outputId": "5ff2a236-6769-478e-fb4e-e55190588163"
      },
      "execution_count": 1,
      "outputs": [
        {
          "output_type": "stream",
          "name": "stdout",
          "text": [
            "Collecting keras==2.2.4\n",
            "  Downloading Keras-2.2.4-py2.py3-none-any.whl (312 kB)\n",
            "\u001b[?25l\r\u001b[K     |█                               | 10 kB 33.8 MB/s eta 0:00:01\r\u001b[K     |██                              | 20 kB 32.4 MB/s eta 0:00:01\r\u001b[K     |███▏                            | 30 kB 19.8 MB/s eta 0:00:01\r\u001b[K     |████▏                           | 40 kB 17.5 MB/s eta 0:00:01\r\u001b[K     |█████▎                          | 51 kB 12.9 MB/s eta 0:00:01\r\u001b[K     |██████▎                         | 61 kB 15.0 MB/s eta 0:00:01\r\u001b[K     |███████▍                        | 71 kB 15.7 MB/s eta 0:00:01\r\u001b[K     |████████▍                       | 81 kB 15.2 MB/s eta 0:00:01\r\u001b[K     |█████████▍                      | 92 kB 16.6 MB/s eta 0:00:01\r\u001b[K     |██████████▌                     | 102 kB 15.8 MB/s eta 0:00:01\r\u001b[K     |███████████▌                    | 112 kB 15.8 MB/s eta 0:00:01\r\u001b[K     |████████████▋                   | 122 kB 15.8 MB/s eta 0:00:01\r\u001b[K     |█████████████▋                  | 133 kB 15.8 MB/s eta 0:00:01\r\u001b[K     |██████████████▊                 | 143 kB 15.8 MB/s eta 0:00:01\r\u001b[K     |███████████████▊                | 153 kB 15.8 MB/s eta 0:00:01\r\u001b[K     |████████████████▊               | 163 kB 15.8 MB/s eta 0:00:01\r\u001b[K     |█████████████████▉              | 174 kB 15.8 MB/s eta 0:00:01\r\u001b[K     |██████████████████▉             | 184 kB 15.8 MB/s eta 0:00:01\r\u001b[K     |████████████████████            | 194 kB 15.8 MB/s eta 0:00:01\r\u001b[K     |█████████████████████           | 204 kB 15.8 MB/s eta 0:00:01\r\u001b[K     |██████████████████████          | 215 kB 15.8 MB/s eta 0:00:01\r\u001b[K     |███████████████████████         | 225 kB 15.8 MB/s eta 0:00:01\r\u001b[K     |████████████████████████▏       | 235 kB 15.8 MB/s eta 0:00:01\r\u001b[K     |█████████████████████████▏      | 245 kB 15.8 MB/s eta 0:00:01\r\u001b[K     |██████████████████████████▏     | 256 kB 15.8 MB/s eta 0:00:01\r\u001b[K     |███████████████████████████▎    | 266 kB 15.8 MB/s eta 0:00:01\r\u001b[K     |████████████████████████████▎   | 276 kB 15.8 MB/s eta 0:00:01\r\u001b[K     |█████████████████████████████▍  | 286 kB 15.8 MB/s eta 0:00:01\r\u001b[K     |██████████████████████████████▍ | 296 kB 15.8 MB/s eta 0:00:01\r\u001b[K     |███████████████████████████████▌| 307 kB 15.8 MB/s eta 0:00:01\r\u001b[K     |████████████████████████████████| 312 kB 15.8 MB/s \n",
            "\u001b[?25hCollecting keras-applications>=1.0.6\n",
            "  Downloading Keras_Applications-1.0.8-py3-none-any.whl (50 kB)\n",
            "\u001b[?25l\r\u001b[K     |██████▌                         | 10 kB 42.9 MB/s eta 0:00:01\r\u001b[K     |█████████████                   | 20 kB 50.4 MB/s eta 0:00:01\r\u001b[K     |███████████████████▍            | 30 kB 57.6 MB/s eta 0:00:01\r\u001b[K     |█████████████████████████▉      | 40 kB 59.3 MB/s eta 0:00:01\r\u001b[K     |████████████████████████████████| 50 kB 9.2 MB/s \n",
            "\u001b[?25hRequirement already satisfied: keras-preprocessing>=1.0.5 in /usr/local/lib/python3.7/dist-packages (from keras==2.2.4) (1.1.2)\n",
            "Requirement already satisfied: scipy>=0.14 in /usr/local/lib/python3.7/dist-packages (from keras==2.2.4) (1.4.1)\n",
            "Requirement already satisfied: h5py in /usr/local/lib/python3.7/dist-packages (from keras==2.2.4) (3.1.0)\n",
            "Requirement already satisfied: pyyaml in /usr/local/lib/python3.7/dist-packages (from keras==2.2.4) (3.13)\n",
            "Requirement already satisfied: six>=1.9.0 in /usr/local/lib/python3.7/dist-packages (from keras==2.2.4) (1.15.0)\n",
            "Requirement already satisfied: numpy>=1.9.1 in /usr/local/lib/python3.7/dist-packages (from keras==2.2.4) (1.21.5)\n",
            "Requirement already satisfied: cached-property in /usr/local/lib/python3.7/dist-packages (from h5py->keras==2.2.4) (1.5.2)\n",
            "Installing collected packages: keras-applications, keras\n",
            "  Attempting uninstall: keras\n",
            "    Found existing installation: keras 2.8.0\n",
            "    Uninstalling keras-2.8.0:\n",
            "      Successfully uninstalled keras-2.8.0\n",
            "\u001b[31mERROR: pip's dependency resolver does not currently take into account all the packages that are installed. This behaviour is the source of the following dependency conflicts.\n",
            "tensorflow 2.8.0 requires tf-estimator-nightly==2.8.0.dev2021122109, which is not installed.\n",
            "tensorflow 2.8.0 requires keras<2.9,>=2.8.0rc0, but you have keras 2.2.4 which is incompatible.\u001b[0m\n",
            "Successfully installed keras-2.2.4 keras-applications-1.0.8\n",
            "Collecting tensorflow==1.13.1\n",
            "  Downloading tensorflow-1.13.1-cp37-cp37m-manylinux1_x86_64.whl (92.6 MB)\n",
            "\u001b[K     |████████████████████████████████| 92.6 MB 1.2 MB/s \n",
            "\u001b[?25hRequirement already satisfied: numpy>=1.13.3 in /usr/local/lib/python3.7/dist-packages (from tensorflow==1.13.1) (1.21.5)\n",
            "Requirement already satisfied: protobuf>=3.6.1 in /usr/local/lib/python3.7/dist-packages (from tensorflow==1.13.1) (3.17.3)\n",
            "Requirement already satisfied: absl-py>=0.1.6 in /usr/local/lib/python3.7/dist-packages (from tensorflow==1.13.1) (1.0.0)\n",
            "Requirement already satisfied: keras-applications>=1.0.6 in /usr/local/lib/python3.7/dist-packages (from tensorflow==1.13.1) (1.0.8)\n",
            "Requirement already satisfied: astor>=0.6.0 in /usr/local/lib/python3.7/dist-packages (from tensorflow==1.13.1) (0.8.1)\n",
            "Requirement already satisfied: wheel>=0.26 in /usr/local/lib/python3.7/dist-packages (from tensorflow==1.13.1) (0.37.1)\n",
            "Requirement already satisfied: keras-preprocessing>=1.0.5 in /usr/local/lib/python3.7/dist-packages (from tensorflow==1.13.1) (1.1.2)\n",
            "Collecting tensorboard<1.14.0,>=1.13.0\n",
            "  Downloading tensorboard-1.13.1-py3-none-any.whl (3.2 MB)\n",
            "\u001b[K     |████████████████████████████████| 3.2 MB 63.2 MB/s \n",
            "\u001b[?25hRequirement already satisfied: termcolor>=1.1.0 in /usr/local/lib/python3.7/dist-packages (from tensorflow==1.13.1) (1.1.0)\n",
            "Collecting tensorflow-estimator<1.14.0rc0,>=1.13.0\n",
            "  Downloading tensorflow_estimator-1.13.0-py2.py3-none-any.whl (367 kB)\n",
            "\u001b[K     |████████████████████████████████| 367 kB 73.1 MB/s \n",
            "\u001b[?25hRequirement already satisfied: gast>=0.2.0 in /usr/local/lib/python3.7/dist-packages (from tensorflow==1.13.1) (0.5.3)\n",
            "Requirement already satisfied: six>=1.10.0 in /usr/local/lib/python3.7/dist-packages (from tensorflow==1.13.1) (1.15.0)\n",
            "Requirement already satisfied: grpcio>=1.8.6 in /usr/local/lib/python3.7/dist-packages (from tensorflow==1.13.1) (1.43.0)\n",
            "Requirement already satisfied: h5py in /usr/local/lib/python3.7/dist-packages (from keras-applications>=1.0.6->tensorflow==1.13.1) (3.1.0)\n",
            "Requirement already satisfied: markdown>=2.6.8 in /usr/local/lib/python3.7/dist-packages (from tensorboard<1.14.0,>=1.13.0->tensorflow==1.13.1) (3.3.6)\n",
            "Requirement already satisfied: werkzeug>=0.11.15 in /usr/local/lib/python3.7/dist-packages (from tensorboard<1.14.0,>=1.13.0->tensorflow==1.13.1) (1.0.1)\n",
            "Requirement already satisfied: importlib-metadata>=4.4 in /usr/local/lib/python3.7/dist-packages (from markdown>=2.6.8->tensorboard<1.14.0,>=1.13.0->tensorflow==1.13.1) (4.11.0)\n",
            "Requirement already satisfied: zipp>=0.5 in /usr/local/lib/python3.7/dist-packages (from importlib-metadata>=4.4->markdown>=2.6.8->tensorboard<1.14.0,>=1.13.0->tensorflow==1.13.1) (3.7.0)\n",
            "Requirement already satisfied: typing-extensions>=3.6.4 in /usr/local/lib/python3.7/dist-packages (from importlib-metadata>=4.4->markdown>=2.6.8->tensorboard<1.14.0,>=1.13.0->tensorflow==1.13.1) (3.10.0.2)\n",
            "Collecting mock>=2.0.0\n",
            "  Downloading mock-4.0.3-py3-none-any.whl (28 kB)\n",
            "Requirement already satisfied: cached-property in /usr/local/lib/python3.7/dist-packages (from h5py->keras-applications>=1.0.6->tensorflow==1.13.1) (1.5.2)\n",
            "Installing collected packages: mock, tensorflow-estimator, tensorboard, tensorflow\n",
            "  Attempting uninstall: tensorflow-estimator\n",
            "    Found existing installation: tensorflow-estimator 2.8.0\n",
            "    Uninstalling tensorflow-estimator-2.8.0:\n",
            "      Successfully uninstalled tensorflow-estimator-2.8.0\n",
            "  Attempting uninstall: tensorboard\n",
            "    Found existing installation: tensorboard 2.8.0\n",
            "    Uninstalling tensorboard-2.8.0:\n",
            "      Successfully uninstalled tensorboard-2.8.0\n",
            "  Attempting uninstall: tensorflow\n",
            "    Found existing installation: tensorflow 2.8.0\n",
            "    Uninstalling tensorflow-2.8.0:\n",
            "      Successfully uninstalled tensorflow-2.8.0\n",
            "\u001b[31mERROR: pip's dependency resolver does not currently take into account all the packages that are installed. This behaviour is the source of the following dependency conflicts.\n",
            "kapre 0.3.7 requires tensorflow>=2.0.0, but you have tensorflow 1.13.1 which is incompatible.\u001b[0m\n",
            "Successfully installed mock-4.0.3 tensorboard-1.13.1 tensorflow-1.13.1 tensorflow-estimator-1.13.0\n"
          ]
        }
      ]
    },
    {
      "cell_type": "code",
      "source": [
        "import tensorflow as tf\n",
        "from tensorflow import keras\n",
        "from tensorflow.keras.layers import Input, Dense, Conv2D, MaxPooling2D, Conv2DTranspose, Flatten\n",
        "from tensorflow.keras.layers import Reshape, BatchNormalization, Lambda\n",
        "from tensorflow.keras.models import Model\n",
        "from tensorflow.keras import backend as K\n",
        "from tensorflow.keras.losses import binary_crossentropy\n",
        "from tensorflow.keras.callbacks import TensorBoard\n",
        "\n",
        "# reparameterization trick\n",
        "# instead of sampling from Q(z|X), sample epsilon = N(0,I)\n",
        "# z = z_mean + sqrt(var) * epsilon\n",
        "def sample_z(args):\n",
        "    \"\"\"Reparameterization trick by sampling from an isotropic unit Gaussian.\n",
        "\n",
        "    # Arguments\n",
        "        args (tensor): mean and log of variance of Q(z|X)\n",
        "\n",
        "    # Returns\n",
        "        z (tensor): sampled latent vector\n",
        "    \"\"\"\n",
        "    mu, sigma = args\n",
        "    batch     = K.shape(mu)[0]\n",
        "    dim       = K.int_shape(mu)[1]\n",
        "    # by default, random_normal has mean = 0 and std = 1.0\n",
        "    eps       = K.random_normal(shape=(batch, dim))\n",
        "    return mu + K.exp(sigma / 2) * eps"
      ],
      "metadata": {
        "id": "2NBxlp38tk_D"
      },
      "execution_count": 3,
      "outputs": []
    },
    {
      "cell_type": "code",
      "source": [
        "image_width  = 256\n",
        "image_height = 256\n",
        "latent_dim   = 2\n",
        "no_epochs    = 30\n",
        "batch_size   = 128\n",
        "num_channels = 3"
      ],
      "metadata": {
        "id": "m32acXUwt2VN"
      },
      "execution_count": 4,
      "outputs": []
    },
    {
      "cell_type": "code",
      "execution_count": 5,
      "metadata": {
        "colab": {
          "base_uri": "https://localhost:8080/"
        },
        "id": "QymTiGk4epvb",
        "outputId": "1e13d3f4-e350-48bd-982a-823b1b5defaa"
      },
      "outputs": [
        {
          "output_type": "stream",
          "name": "stdout",
          "text": [
            "WARNING:tensorflow:From /usr/local/lib/python3.7/dist-packages/tensorflow/python/ops/resource_variable_ops.py:435: colocate_with (from tensorflow.python.framework.ops) is deprecated and will be removed in a future version.\n",
            "Instructions for updating:\n",
            "Colocations handled automatically by placer.\n",
            "__________________________________________________________________________________________________\n",
            "Layer (type)                    Output Shape         Param #     Connected to                     \n",
            "==================================================================================================\n",
            "encoder_input (InputLayer)      (None, 256, 256, 3)  0                                            \n",
            "__________________________________________________________________________________________________\n",
            "conv2d (Conv2D)                 (None, 128, 128, 32) 896         encoder_input[0][0]              \n",
            "__________________________________________________________________________________________________\n",
            "batch_normalization_v1 (BatchNo (None, 128, 128, 32) 128         conv2d[0][0]                     \n",
            "__________________________________________________________________________________________________\n",
            "conv2d_1 (Conv2D)               (None, 64, 64, 64)   18496       batch_normalization_v1[0][0]     \n",
            "__________________________________________________________________________________________________\n",
            "batch_normalization_v1_1 (Batch (None, 64, 64, 64)   256         conv2d_1[0][0]                   \n",
            "__________________________________________________________________________________________________\n",
            "flatten (Flatten)               (None, 262144)       0           batch_normalization_v1_1[0][0]   \n",
            "__________________________________________________________________________________________________\n",
            "dense (Dense)                   (None, 16)           4194320     flatten[0][0]                    \n",
            "__________________________________________________________________________________________________\n",
            "batch_normalization_v1_2 (Batch (None, 16)           64          dense[0][0]                      \n",
            "__________________________________________________________________________________________________\n",
            "latent_mu (Dense)               (None, 2)            34          batch_normalization_v1_2[0][0]   \n",
            "__________________________________________________________________________________________________\n",
            "latent_sigma (Dense)            (None, 2)            34          batch_normalization_v1_2[0][0]   \n",
            "__________________________________________________________________________________________________\n",
            "z (Lambda)                      (None, 2)            0           latent_mu[0][0]                  \n",
            "                                                                 latent_sigma[0][0]               \n",
            "==================================================================================================\n",
            "Total params: 4,214,228\n",
            "Trainable params: 4,214,004\n",
            "Non-trainable params: 224\n",
            "__________________________________________________________________________________________________\n"
          ]
        }
      ],
      "source": [
        "\n",
        "# Defining the encoder\n",
        "inputs = Input(shape=(image_width, image_height, 3), name='encoder_input')  \n",
        "\n",
        "x = Conv2D(32, (3, 3), activation='relu', strides=2, padding='same')(inputs)\n",
        "x = BatchNormalization()(x)\n",
        "x = Conv2D(64, (3, 3), activation='relu', strides=2, padding='same')(x)\n",
        "x = BatchNormalization()(x)\n",
        "conv_shape = K.int_shape(x)\n",
        "x = Flatten()(x)\n",
        "x = Dense(16)(x)\n",
        "x = BatchNormalization()(x)\n",
        "mu = Dense(latent_dim, name='latent_mu')(x)\n",
        "sigma = Dense(latent_dim, name='latent_sigma')(x)\n",
        "\n",
        "# use reparameterization trick to push the sampling out as input\n",
        "z  = Lambda(sample_z, output_shape=(latent_dim, ), name='z')([mu, sigma])\n",
        "\n",
        "\n",
        "encoder = Model(inputs, [mu, sigma, z], name='encoder')\n",
        "encoder.summary()"
      ]
    },
    {
      "cell_type": "code",
      "source": [
        "# Defining decoder\n",
        "d_i   = Input(shape=(latent_dim, ), name='decoder_input')\n",
        "x     = Dense(conv_shape[1] * conv_shape[2] * conv_shape[3], activation='relu')(d_i)\n",
        "x     = BatchNormalization()(x)\n",
        "x     = Reshape((conv_shape[1], conv_shape[2], conv_shape[3]))(x)\n",
        "cx    = Conv2DTranspose(16, (3, 3), strides=2, padding='same', activation='relu')(x)\n",
        "cx    = BatchNormalization()(cx)\n",
        "cx    = Conv2DTranspose(8, (3, 3), strides=2, padding='same',  activation='relu')(cx)\n",
        "cx    = BatchNormalization()(cx)\n",
        "o     = Conv2DTranspose(3, (3, 3), activation='sigmoid', padding='same', name='decoder_output')(cx)\n",
        "\n",
        "# Instantiate decoder\n",
        "decoder = Model(d_i, o, name='decoder')\n",
        "decoder.summary()"
      ],
      "metadata": {
        "colab": {
          "base_uri": "https://localhost:8080/"
        },
        "id": "iq6xXT4EjQXl",
        "outputId": "517fe642-48fa-4a03-bcf2-f3447ea643b8"
      },
      "execution_count": 6,
      "outputs": [
        {
          "output_type": "stream",
          "name": "stdout",
          "text": [
            "_________________________________________________________________\n",
            "Layer (type)                 Output Shape              Param #   \n",
            "=================================================================\n",
            "decoder_input (InputLayer)   (None, 2)                 0         \n",
            "_________________________________________________________________\n",
            "dense_1 (Dense)              (None, 262144)            786432    \n",
            "_________________________________________________________________\n",
            "batch_normalization_v1_3 (Ba (None, 262144)            1048576   \n",
            "_________________________________________________________________\n",
            "reshape (Reshape)            (None, 64, 64, 64)        0         \n",
            "_________________________________________________________________\n",
            "conv2d_transpose (Conv2DTran (None, 128, 128, 16)      9232      \n",
            "_________________________________________________________________\n",
            "batch_normalization_v1_4 (Ba (None, 128, 128, 16)      64        \n",
            "_________________________________________________________________\n",
            "conv2d_transpose_1 (Conv2DTr (None, 256, 256, 8)       1160      \n",
            "_________________________________________________________________\n",
            "batch_normalization_v1_5 (Ba (None, 256, 256, 8)       32        \n",
            "_________________________________________________________________\n",
            "decoder_output (Conv2DTransp (None, 256, 256, 3)       219       \n",
            "=================================================================\n",
            "Total params: 1,845,715\n",
            "Trainable params: 1,321,379\n",
            "Non-trainable params: 524,336\n",
            "_________________________________________________________________\n"
          ]
        }
      ]
    },
    {
      "cell_type": "code",
      "source": [
        "# Build VAE model\n",
        "outputs = decoder(encoder(inputs)[2])\n",
        "vae = Model(inputs, outputs, name='vae')\n",
        "vae.summary()"
      ],
      "metadata": {
        "colab": {
          "base_uri": "https://localhost:8080/"
        },
        "id": "vStF6Bn5jTeR",
        "outputId": "860ad24a-00d9-4920-850a-af58280eef02"
      },
      "execution_count": 7,
      "outputs": [
        {
          "output_type": "stream",
          "name": "stdout",
          "text": [
            "_________________________________________________________________\n",
            "Layer (type)                 Output Shape              Param #   \n",
            "=================================================================\n",
            "encoder_input (InputLayer)   (None, 256, 256, 3)       0         \n",
            "_________________________________________________________________\n",
            "encoder (Model)              [(None, 2), (None, 2), (N 4214228   \n",
            "_________________________________________________________________\n",
            "decoder (Model)              (None, 256, 256, 3)       1845715   \n",
            "=================================================================\n",
            "Total params: 6,059,943\n",
            "Trainable params: 5,535,383\n",
            "Non-trainable params: 524,560\n",
            "_________________________________________________________________\n"
          ]
        }
      ]
    },
    {
      "cell_type": "code",
      "source": [
        "def vae_loss(true, pred):\n",
        "    # Reconstruction loss\n",
        "    reconstruction_loss = binary_crossentropy(K.flatten(true), K.flatten(pred)) * image_width * image_height\n",
        "    # KL divergence loss\n",
        "    kl_loss = 1 + sigma - K.square(mu) - K.exp(sigma)\n",
        "    kl_loss = K.sum(kl_loss, axis=-1)\n",
        "    kl_loss *= -0.5\n",
        "    # Total loss = 50% rec + 50% KL divergence loss\n",
        "    return K.mean(reconstruction_loss + kl_loss)"
      ],
      "metadata": {
        "id": "vkkOBivwjWSO"
      },
      "execution_count": 8,
      "outputs": []
    },
    {
      "cell_type": "code",
      "source": [
        "import numpy as np\n",
        "import tensorflow as tf\n",
        "import keras \n",
        "from keras.layers import Dense, Conv2D, MaxPool2D, UpSampling2D, Dropout, Input\n",
        "from keras.preprocessing.image import img_to_array\n",
        "import matplotlib.pyplot as plt\n",
        "import cv2\n",
        "from tqdm import tqdm \n",
        "import os\n",
        "import re \n",
        "# to get the files in proper order\n",
        "def sorted_alphanumeric(data):  \n",
        "    convert = lambda text: int(text) if text.isdigit() else text.lower()\n",
        "    alphanum_key = lambda key: [convert(c) for c in re.split('([0-9]+)',key)]\n",
        "    return sorted(data,key = alphanum_key)\n",
        "\n",
        "\n",
        "# defining the size of image \n",
        "SIZE = 256\n",
        "\n",
        "image_path = '/content/photos'\n",
        "img_array = []\n",
        "\n",
        "sketch_path = '/content/sketches'\n",
        "sketch_array = []\n",
        "\n",
        "image_file = sorted_alphanumeric(os.listdir(image_path))\n",
        "sketch_file = sorted_alphanumeric(os.listdir(sketch_path))\n",
        "\n",
        "\n",
        "for i in tqdm(image_file):\n",
        "    image = cv2.imread(image_path + '/' + i,1)\n",
        "    print(\"Image is \",image)\n",
        "    \n",
        "    # as opencv load image in bgr format converting it to rgb\n",
        "    image = cv2.cvtColor(image, cv2.COLOR_BGR2RGB)\n",
        "    \n",
        "    # resizing images \n",
        "    image = cv2.resize(image, (SIZE, SIZE))\n",
        "    \n",
        "    # normalizing image \n",
        "    image = image.astype('float32') / 255.0\n",
        "    \n",
        "    #appending normal normal image    \n",
        "    img_array.append(img_to_array(image))\n",
        "    # Image Augmentation\n",
        "    \n",
        "    # horizontal flip \n",
        "    img1 = cv2.flip(image,1)\n",
        "    img_array.append(img_to_array(img1))\n",
        "     #vertical flip \n",
        "    img2 = cv2.flip(image,-1)\n",
        "    img_array.append(img_to_array(img2))\n",
        "     #vertical flip \n",
        "    img3 = cv2.flip(image,-1)\n",
        "    # horizontal flip\n",
        "    img3 = cv2.flip(img3,1)\n",
        "    img_array.append(img_to_array(img3))\n",
        "    # rotate clockwise \n",
        "    img4 = cv2.rotate(image, cv2.ROTATE_90_CLOCKWISE)\n",
        "    img_array.append(img_to_array(img4))\n",
        "    # flip rotated image \n",
        "    img5 = cv2.flip(img4,1)\n",
        "    img_array.append(img_to_array(img5))\n",
        "     # rotate anti clockwise \n",
        "    img6 = cv2.rotate(image, cv2.ROTATE_90_COUNTERCLOCKWISE)\n",
        "    img_array.append(img_to_array(img6))\n",
        "    # flip rotated image \n",
        "    img7 = cv2.flip(img6,1)\n",
        "    img_array.append(img_to_array(img7))\n",
        "  \n",
        "    \n",
        "for i in tqdm(sketch_file):\n",
        "    image = cv2.imread(sketch_path + '/' + i,1)\n",
        "    \n",
        "    # as opencv load image in bgr format converting it to rgb\n",
        "    image = cv2.cvtColor(image, cv2.COLOR_BGR2RGB)\n",
        "    \n",
        "    # resizing images \n",
        "    image = cv2.resize(image, (SIZE, SIZE))\n",
        "    \n",
        "    # normalizing image \n",
        "    image = image.astype('float32') / 255.0\n",
        "    # appending normal sketch image\n",
        "    sketch_array.append(img_to_array(image))\n",
        "    \n",
        "    #Image Augmentation\n",
        "    # horizontal flip \n",
        "    img1 = cv2.flip(image,1)\n",
        "    sketch_array.append(img_to_array(img1))\n",
        "     #vertical flip \n",
        "    img2 = cv2.flip(image,-1)\n",
        "    sketch_array.append(img_to_array(img2))\n",
        "     #vertical flip \n",
        "    img3 = cv2.flip(image,-1)\n",
        "    # horizontal flip\n",
        "    img3 = cv2.flip(img3,1)\n",
        "    sketch_array.append(img_to_array(img3))\n",
        "    # rotate clockwise \n",
        "    img4 = cv2.rotate(image, cv2.ROTATE_90_CLOCKWISE)\n",
        "    sketch_array.append(img_to_array(img4))\n",
        "    # flip rotated image \n",
        "    img5 = cv2.flip(img4,1)\n",
        "    sketch_array.append(img_to_array(img5))\n",
        "     # rotate anti clockwise \n",
        "    img6 = cv2.rotate(image, cv2.ROTATE_90_COUNTERCLOCKWISE)\n",
        "    sketch_array.append(img_to_array(img6))\n",
        "    # flip rotated image \n",
        "    img7 = cv2.flip(img6,1)\n",
        "    sketch_array.append(img_to_array(img7))"
      ],
      "metadata": {
        "id": "FDf3KNt3jaNf"
      },
      "execution_count": null,
      "outputs": []
    },
    {
      "cell_type": "code",
      "source": [
        "print(\"Total number of sketch images:\",len(sketch_array))\n",
        "print(\"Total number of images:\",len(img_array))\n",
        "train_sketch_image = sketch_array[:1400]\n",
        "train_image = img_array[:1400]\n",
        "test_sketch_image = sketch_array[1400:]\n",
        "test_image = img_array[1400:]\n",
        "# reshaping\n",
        "train_sketch_image = np.reshape(train_sketch_image,(len(train_sketch_image),SIZE,SIZE,3))\n",
        "train_image = np.reshape(train_image, (len(train_image),SIZE,SIZE,3))\n",
        "print('Train color image shape:',train_image.shape)\n",
        "test_sketch_image = np.reshape(test_sketch_image,(len(test_sketch_image),SIZE,SIZE,3))\n",
        "test_image = np.reshape(test_image, (len(test_image),SIZE,SIZE,3))\n",
        "print('Test color image shape',test_image.shape)"
      ],
      "metadata": {
        "colab": {
          "base_uri": "https://localhost:8080/"
        },
        "id": "8LKP0GP6je4-",
        "outputId": "06aaa3b5-f7b1-49b8-f921-6f6ed9954f86"
      },
      "execution_count": 10,
      "outputs": [
        {
          "output_type": "stream",
          "name": "stdout",
          "text": [
            "Total number of sketch images: 1504\n",
            "Total number of images: 1504\n",
            "Train color image shape: (1400, 256, 256, 3)\n",
            "Test color image shape (104, 256, 256, 3)\n"
          ]
        }
      ]
    },
    {
      "cell_type": "markdown",
      "source": [
        "**Modelling for Face To Sketch**"
      ],
      "metadata": {
        "id": "eHi4GDl93o6M"
      }
    },
    {
      "cell_type": "code",
      "source": [
        "vae.compile(optimizer='adam', loss=vae_loss)\n",
        "vae.fit(train_image, train_sketch_image,\n",
        "        epochs=20,\n",
        "        batch_size=80,\n",
        "        validation_data=(test_image, test_sketch_image))\n",
        "\n",
        "# Randomly sample one or more charachters and plot them\n",
        "random_chars = [np.random.normal(0, 1, latent_dim) for _ in range(1)]\n",
        "imgs = []\n",
        "for char in random_chars:\n",
        "    char = char.reshape(-1,2)\n",
        "    imgs.append(decoder.predict(char))\n",
        "\n",
        "imgs = [np.reshape(img,(image_width, image_height, 3)) for img in imgs]\n",
        "for img in imgs:\n",
        "    plt.figure(figsize=(2,2))\n",
        "    plt.axis('off')\n",
        "    plt.imshow(img, cmap='gray')"
      ],
      "metadata": {
        "colab": {
          "base_uri": "https://localhost:8080/",
          "height": 946
        },
        "id": "zVAsCO84jfjc",
        "outputId": "1a12fa02-e72a-49fe-8b23-213c3f43e0cc"
      },
      "execution_count": 11,
      "outputs": [
        {
          "output_type": "stream",
          "name": "stdout",
          "text": [
            "Train on 1400 samples, validate on 104 samples\n",
            "WARNING:tensorflow:From /usr/local/lib/python3.7/dist-packages/tensorflow/python/ops/math_ops.py:3066: to_int32 (from tensorflow.python.ops.math_ops) is deprecated and will be removed in a future version.\n",
            "Instructions for updating:\n",
            "Use tf.cast instead.\n",
            "Epoch 1/20\n",
            "1400/1400 [==============================] - 321s 229ms/sample - loss: 46783.2708 - val_loss: 44382.0892\n",
            "Epoch 2/20\n",
            "1400/1400 [==============================] - 318s 227ms/sample - loss: 42863.5592 - val_loss: 42661.4017\n",
            "Epoch 3/20\n",
            "1400/1400 [==============================] - 319s 228ms/sample - loss: 38605.8444 - val_loss: 39917.2960\n",
            "Epoch 4/20\n",
            "1400/1400 [==============================] - 320s 228ms/sample - loss: 35478.3682 - val_loss: 36864.6412\n",
            "Epoch 5/20\n",
            "1400/1400 [==============================] - 321s 229ms/sample - loss: 32327.4330 - val_loss: 33845.8642\n",
            "Epoch 6/20\n",
            "1400/1400 [==============================] - 319s 228ms/sample - loss: 29596.6238 - val_loss: 31764.3493\n",
            "Epoch 7/20\n",
            "1400/1400 [==============================] - 320s 228ms/sample - loss: 27835.6751 - val_loss: 30411.3764\n",
            "Epoch 8/20\n",
            "1400/1400 [==============================] - 320s 228ms/sample - loss: 26818.0287 - val_loss: 30014.2662\n",
            "Epoch 9/20\n",
            "1400/1400 [==============================] - 319s 228ms/sample - loss: 26417.1151 - val_loss: 29777.2186\n",
            "Epoch 10/20\n",
            "1400/1400 [==============================] - 320s 228ms/sample - loss: 26103.4545 - val_loss: 29434.9148\n",
            "Epoch 11/20\n",
            "1400/1400 [==============================] - 320s 229ms/sample - loss: 26002.6890 - val_loss: 29190.9862\n",
            "Epoch 12/20\n",
            "1400/1400 [==============================] - 319s 228ms/sample - loss: 25847.2545 - val_loss: 28910.6209\n",
            "Epoch 13/20\n",
            "1400/1400 [==============================] - 320s 228ms/sample - loss: 25706.1113 - val_loss: 28348.4902\n",
            "Epoch 14/20\n",
            "1400/1400 [==============================] - 321s 229ms/sample - loss: 25772.1076 - val_loss: 27920.4886\n",
            "Epoch 15/20\n",
            "1400/1400 [==============================] - 319s 228ms/sample - loss: 25638.9634 - val_loss: 27552.0637\n",
            "Epoch 16/20\n",
            "1400/1400 [==============================] - 319s 228ms/sample - loss: 25457.3881 - val_loss: 27164.8383\n",
            "Epoch 17/20\n",
            "1400/1400 [==============================] - 320s 228ms/sample - loss: 25407.1737 - val_loss: 26732.5858\n",
            "Epoch 18/20\n",
            "1400/1400 [==============================] - 320s 228ms/sample - loss: 25338.5471 - val_loss: 26395.0361\n",
            "Epoch 19/20\n",
            "1400/1400 [==============================] - 319s 228ms/sample - loss: 25346.1044 - val_loss: 26108.0843\n",
            "Epoch 20/20\n",
            "1400/1400 [==============================] - 319s 228ms/sample - loss: 25290.2662 - val_loss: 25728.5586\n"
          ]
        },
        {
          "output_type": "display_data",
          "data": {
            "image/png": "[encoded data removed]",
            "text/plain": [
              "<Figure size 144x144 with 1 Axes>"
            ]
          },
          "metadata": {
            "needs_background": "light"
          }
        }
      ]
    },
    {
      "cell_type": "code",
      "source": [
        "# Randomly sample one or more charachters and plot them\n",
        "random_chars = [np.random.normal(0, 2, latent_dim) for _ in range(1)]\n",
        "imgs = []\n",
        "for char in random_chars:\n",
        "    char = char.reshape(-1,2)\n",
        "    imgs.append(decoder.predict(char))\n",
        "\n",
        "imgs = [np.reshape(img,(image_width, image_height, 3)) for img in imgs]\n",
        "for img in imgs:\n",
        "    plt.figure(figsize=(2,2))\n",
        "    plt.axis('off')\n",
        "    plt.imshow(img, cmap='gray')"
      ],
      "metadata": {
        "colab": {
          "base_uri": "https://localhost:8080/",
          "height": 140
        },
        "id": "-sVrWC28jkyn",
        "outputId": "0a79eb68-ce75-4ed9-e92e-89ff99c73e32"
      },
      "execution_count": 48,
      "outputs": [
        {
          "output_type": "display_data",
          "data": {
            "image/png": "[encoded data removed]",
            "text/plain": [
              "<Figure size 144x144 with 1 Axes>"
            ]
          },
          "metadata": {
            "needs_background": "light"
          }
        }
      ]
    },
    {
      "cell_type": "code",
      "source": [
        "random_chars"
      ],
      "metadata": {
        "id": "afQnnI0T_J0B",
        "outputId": "083042d2-24a6-4f8e-86ce-3ce277152be9",
        "colab": {
          "base_uri": "https://localhost:8080/"
        }
      },
      "execution_count": 44,
      "outputs": [
        {
          "output_type": "execute_result",
          "data": {
            "text/plain": [
              "[array([ 0.46834664, -0.92630004])]"
            ]
          },
          "metadata": {},
          "execution_count": 44
        }
      ]
    },
    {
      "cell_type": "markdown",
      "source": [
        "**Modelling for Sketch To Face**"
      ],
      "metadata": {
        "id": "iXATrEy03wYA"
      }
    },
    {
      "cell_type": "code",
      "source": [
        "vae.compile(optimizer='adam', loss=vae_loss)\n",
        "vae.fit(train_sketch_image, train_image,\n",
        "        epochs=80,\n",
        "        batch_size=16,\n",
        "        validation_data=(test_sketch_image, test_image))\n",
        "\n",
        "random_chars = [np.random.normal(0, 1, latent_dim) for _ in range(1)]\n",
        "imgs = []\n",
        "for char in random_chars:\n",
        "    char = char.reshape(-1,2)\n",
        "    imgs.append(decoder.predict(char))\n",
        "\n",
        "imgs = [np.reshape(img,(image_width, image_height, 3)) for img in imgs]\n",
        "for img in imgs:\n",
        "    plt.figure(figsize=(2,2))\n",
        "    plt.axis('off')\n",
        "    plt.imshow(img, cmap='gray')"
      ],
      "metadata": {
        "colab": {
          "base_uri": "https://localhost:8080/"
        },
        "id": "1p47sOEl30an",
        "outputId": "48ec7631-c408-43d1-9f1b-94e67009e187"
      },
      "execution_count": 11,
      "outputs": [
        {
          "metadata": {
            "tags": null
          },
          "name": "stdout",
          "output_type": "stream",
          "text": [
            "Train on 1400 samples, validate on 104 samples\n",
            "Epoch 1/80\n",
            "1400/1400 [==============================] - 308s 220ms/sample - loss: 37498.0099 - val_loss: 35718.8011\n",
            "Epoch 2/80\n",
            "1400/1400 [==============================] - 308s 220ms/sample - loss: 37268.9538 - val_loss: 35604.4483\n",
            "Epoch 3/80\n",
            "1400/1400 [==============================] - 308s 220ms/sample - loss: 37155.4087 - val_loss: 36083.1382\n",
            "Epoch 4/80\n",
            "1400/1400 [==============================] - 308s 220ms/sample - loss: 37175.7962 - val_loss: 36704.3519\n",
            "Epoch 5/80\n",
            "1400/1400 [==============================] - 309s 220ms/sample - loss: 37082.3548 - val_loss: 35509.6445\n",
            "Epoch 6/80\n",
            "1400/1400 [==============================] - 309s 220ms/sample - loss: 37006.6769 - val_loss: 35795.2344\n",
            "Epoch 7/80\n",
            "1400/1400 [==============================] - 308s 220ms/sample - loss: 37009.6271 - val_loss: 36566.3999\n",
            "Epoch 8/80\n",
            "1400/1400 [==============================] - 309s 221ms/sample - loss: 36948.1741 - val_loss: 35058.1148\n",
            "Epoch 9/80\n",
            "1400/1400 [==============================] - 309s 221ms/sample - loss: 36834.7896 - val_loss: 35219.8798\n",
            "Epoch 10/80\n",
            "1400/1400 [==============================] - 309s 220ms/sample - loss: 36826.0563 - val_loss: 35046.9973\n",
            "Epoch 11/80\n",
            "1400/1400 [==============================] - 308s 220ms/sample - loss: 36785.2792 - val_loss: 34996.4480\n",
            "Epoch 12/80\n",
            "1400/1400 [==============================] - 308s 220ms/sample - loss: 36803.2175 - val_loss: 35208.2218\n",
            "Epoch 13/80\n",
            "1400/1400 [==============================] - 309s 220ms/sample - loss: 36731.1242 - val_loss: 35287.7227\n",
            "Epoch 14/80\n",
            "1400/1400 [==============================] - 309s 221ms/sample - loss: 36657.1498 - val_loss: 36096.8245\n",
            "Epoch 15/80\n",
            "1400/1400 [==============================] - 309s 221ms/sample - loss: 36603.4967 - val_loss: 35607.0397\n",
            "Epoch 16/80\n",
            "1400/1400 [==============================] - 308s 220ms/sample - loss: 36605.3491 - val_loss: 34805.8600\n",
            "Epoch 17/80\n",
            "1400/1400 [==============================] - 308s 220ms/sample - loss: 36604.1097 - val_loss: 34950.5306\n",
            "Epoch 18/80\n",
            "1400/1400 [==============================] - 308s 220ms/sample - loss: 36568.4910 - val_loss: 35051.9802\n",
            "Epoch 19/80\n",
            "1400/1400 [==============================] - 308s 220ms/sample - loss: 36528.7156 - val_loss: 34926.2079\n",
            "Epoch 20/80\n",
            "1400/1400 [==============================] - 308s 220ms/sample - loss: 36560.5799 - val_loss: 35031.6731\n",
            "Epoch 21/80\n",
            "1400/1400 [==============================] - 309s 221ms/sample - loss: 36509.7909 - val_loss: 36072.8401\n",
            "Epoch 22/80\n",
            "1400/1400 [==============================] - 310s 221ms/sample - loss: 36580.5187 - val_loss: 36027.4297\n",
            "Epoch 23/80\n",
            "1400/1400 [==============================] - 310s 221ms/sample - loss: 36520.5331 - val_loss: 35626.0487\n",
            "Epoch 24/80\n",
            "1400/1400 [==============================] - 310s 221ms/sample - loss: 36502.9486 - val_loss: 34894.5679\n",
            "Epoch 25/80\n",
            "1400/1400 [==============================] - 310s 221ms/sample - loss: 36441.3561 - val_loss: 35068.0956\n",
            "Epoch 26/80\n",
            "1400/1400 [==============================] - 308s 220ms/sample - loss: 36538.5856 - val_loss: 35341.2109\n",
            "Epoch 27/80\n",
            "1400/1400 [==============================] - 308s 220ms/sample - loss: 36436.5184 - val_loss: 34923.5655\n",
            "Epoch 28/80\n",
            "1400/1400 [==============================] - 308s 220ms/sample - loss: 36436.1054 - val_loss: 35110.6659\n",
            "Epoch 29/80\n",
            "1400/1400 [==============================] - 307s 220ms/sample - loss: 36428.8480 - val_loss: 35953.5385\n",
            "Epoch 30/80\n",
            "1400/1400 [==============================] - 310s 221ms/sample - loss: 36386.3529 - val_loss: 35320.7900\n",
            "Epoch 31/80\n",
            "1400/1400 [==============================] - 311s 222ms/sample - loss: 36348.2171 - val_loss: 35090.9447\n",
            "Epoch 32/80\n",
            "1400/1400 [==============================] - 309s 221ms/sample - loss: 36428.9038 - val_loss: 35023.8789\n",
            "Epoch 33/80\n",
            "1400/1400 [==============================] - 312s 223ms/sample - loss: 36474.6177 - val_loss: 34920.1388\n",
            "Epoch 34/80\n",
            "1400/1400 [==============================] - 315s 225ms/sample - loss: 36329.4795 - val_loss: 35206.0928\n",
            "Epoch 35/80\n",
            "1400/1400 [==============================] - 316s 225ms/sample - loss: 36390.1033 - val_loss: 35368.6514\n",
            "Epoch 36/80\n",
            "1400/1400 [==============================] - 312s 223ms/sample - loss: 36369.5690 - val_loss: 35598.9724\n",
            "Epoch 37/80\n",
            "1400/1400 [==============================] - 312s 223ms/sample - loss: 36294.0271 - val_loss: 34665.8368\n",
            "Epoch 38/80\n",
            "1400/1400 [==============================] - 313s 224ms/sample - loss: 36269.5031 - val_loss: 35176.3284\n",
            "Epoch 39/80\n",
            "1400/1400 [==============================] - 313s 224ms/sample - loss: 36335.3417 - val_loss: 34855.5349\n",
            "Epoch 40/80\n",
            "1400/1400 [==============================] - 310s 221ms/sample - loss: 36370.2972 - val_loss: 35411.2635\n",
            "Epoch 41/80\n",
            "1400/1400 [==============================] - 311s 222ms/sample - loss: 36325.6313 - val_loss: 35507.1656\n",
            "Epoch 42/80\n",
            "1400/1400 [==============================] - 312s 223ms/sample - loss: 36244.7290 - val_loss: 34856.9243\n",
            "Epoch 43/80\n",
            "1400/1400 [==============================] - 310s 222ms/sample - loss: 36363.8951 - val_loss: 37272.0168\n",
            "Epoch 44/80\n",
            "1400/1400 [==============================] - 308s 220ms/sample - loss: 36284.2098 - val_loss: 34918.7794\n",
            "Epoch 45/80\n",
            "1400/1400 [==============================] - 308s 220ms/sample - loss: 36257.1727 - val_loss: 35932.5745\n",
            "Epoch 46/80\n",
            "1400/1400 [==============================] - 308s 220ms/sample - loss: 36254.4876 - val_loss: 34844.6902\n",
            "Epoch 47/80\n",
            "1400/1400 [==============================] - 307s 219ms/sample - loss: 36245.7440 - val_loss: 35185.9988\n",
            "Epoch 48/80\n",
            "1400/1400 [==============================] - 307s 219ms/sample - loss: 36219.0731 - val_loss: 35678.4892\n",
            "Epoch 49/80\n",
            "1400/1400 [==============================] - 308s 220ms/sample - loss: 36232.0462 - val_loss: 36599.0817\n",
            "Epoch 50/80\n",
            "1400/1400 [==============================] - 308s 220ms/sample - loss: 36315.6081 - val_loss: 35064.3029\n",
            "Epoch 51/80\n",
            "1400/1400 [==============================] - 308s 220ms/sample - loss: 36318.9296 - val_loss: 36524.2822\n",
            "Epoch 52/80\n",
            "1400/1400 [==============================] - 308s 220ms/sample - loss: 36227.5653 - val_loss: 35474.3579\n",
            "Epoch 53/80\n",
            "1400/1400 [==============================] - 307s 219ms/sample - loss: 36194.6953 - val_loss: 35015.9075\n",
            "Epoch 54/80\n",
            "1400/1400 [==============================] - 306s 219ms/sample - loss: 36271.5098 - val_loss: 35007.3708\n",
            "Epoch 55/80\n",
            "1400/1400 [==============================] - 307s 219ms/sample - loss: 36275.2134 - val_loss: 35168.2707\n",
            "Epoch 56/80\n",
            "1400/1400 [==============================] - 306s 219ms/sample - loss: 36217.4516 - val_loss: 34981.9357\n",
            "Epoch 57/80\n",
            "1400/1400 [==============================] - 308s 220ms/sample - loss: 36229.2315 - val_loss: 35108.0688\n",
            "Epoch 58/80\n",
            "1400/1400 [==============================] - 307s 219ms/sample - loss: 36185.0146 - val_loss: 35069.4243\n",
            "Epoch 59/80\n",
            "1400/1400 [==============================] - 307s 219ms/sample - loss: 36153.7892 - val_loss: 35588.3828\n",
            "Epoch 60/80\n",
            "1400/1400 [==============================] - 307s 219ms/sample - loss: 36265.9043 - val_loss: 35267.4898\n",
            "Epoch 61/80\n",
            "1400/1400 [==============================] - 309s 221ms/sample - loss: 36258.5024 - val_loss: 37170.6749\n",
            "Epoch 62/80\n",
            "1400/1400 [==============================] - 308s 220ms/sample - loss: 36162.3279 - val_loss: 35635.1058\n",
            "Epoch 63/80\n",
            "1400/1400 [==============================] - 308s 220ms/sample - loss: 36204.9266 - val_loss: 35550.9579\n",
            "Epoch 64/80\n",
            "1400/1400 [==============================] - 307s 219ms/sample - loss: 36211.4442 - val_loss: 35182.5192\n",
            "Epoch 65/80\n",
            "1400/1400 [==============================] - 308s 220ms/sample - loss: 36138.8473 - val_loss: 35068.9038\n",
            "Epoch 66/80\n",
            "1400/1400 [==============================] - 308s 220ms/sample - loss: 36180.7420 - val_loss: 37599.4405\n",
            "Epoch 67/80\n",
            "1400/1400 [==============================] - 308s 220ms/sample - loss: 36197.8783 - val_loss: 35037.7879\n",
            "Epoch 68/80\n",
            "1400/1400 [==============================] - 308s 220ms/sample - loss: 36178.0621 - val_loss: 34964.9555\n",
            "Epoch 69/80\n",
            "1400/1400 [==============================] - 305s 218ms/sample - loss: 36149.7345 - val_loss: 34950.9796\n",
            "Epoch 70/80\n",
            "1400/1400 [==============================] - 306s 218ms/sample - loss: 36169.6405 - val_loss: 35059.5571\n",
            "Epoch 71/80\n",
            "1400/1400 [==============================] - 306s 218ms/sample - loss: 36143.1939 - val_loss: 36872.6788\n",
            "Epoch 72/80\n",
            "1400/1400 [==============================] - 307s 220ms/sample - loss: 36119.3806 - val_loss: 35081.1839\n",
            "Epoch 73/80\n",
            "1400/1400 [==============================] - 307s 219ms/sample - loss: 36158.6073 - val_loss: 35510.3522\n",
            "Epoch 74/80\n",
            "1400/1400 [==============================] - 306s 218ms/sample - loss: 36137.4666 - val_loss: 34947.2984\n",
            "Epoch 75/80\n",
            "1400/1400 [==============================] - 306s 219ms/sample - loss: 36179.3910 - val_loss: 35071.8107\n",
            "Epoch 76/80\n",
            "1400/1400 [==============================] - 305s 218ms/sample - loss: 36136.4240 - val_loss: 35099.8254\n",
            "Epoch 77/80\n",
            "1400/1400 [==============================] - 307s 219ms/sample - loss: 36148.8396 - val_loss: 35835.1983\n",
            "Epoch 78/80\n",
            "1400/1400 [==============================] - 306s 219ms/sample - loss: 36072.1700 - val_loss: 37539.8954\n",
            "Epoch 79/80\n",
            "1400/1400 [==============================] - 306s 219ms/sample - loss: 36091.6562 - val_loss: 37967.9742\n",
            "Epoch 80/80\n",
            "1400/1400 [==============================] - 307s 219ms/sample - loss: 36076.6994 - val_loss: 36632.6415\n"
          ]
        },
        {
          "data": {
            "text/plain": [
              "<tensorflow.python.keras.callbacks.History at 0x7f2a02be6890>"
            ]
          },
          "execution_count": null,
          "metadata": {},
          "output_type": "execute_result"
        }
      ]
    },
    {
      "cell_type": "code",
      "source": [
        "random_chars = [np.random.normal(0, 1, latent_dim) for _ in range(1)]\n",
        "imgs = []\n",
        "for char in random_chars:\n",
        "    char = char.reshape(-1,2)\n",
        "    imgs.append(decoder.predict(char))\n",
        "\n",
        "imgs = [np.reshape(img,(image_width, image_height, 3)) for img in imgs]\n",
        "for img in imgs:\n",
        "    plt.figure(figsize=(2,2))\n",
        "    plt.axis('off')\n",
        "    plt.imshow(img, cmap='gray')"
      ],
      "metadata": {
        "id": "9PGpEDXhHpCr"
      },
      "execution_count": null,
      "outputs": []
    },
    {
      "cell_type": "code",
      "source": [
        ""
      ],
      "metadata": {
        "id": "KGruQj0yA9Bx"
      },
      "execution_count": null,
      "outputs": []
    },
    {
      "cell_type": "code",
      "source": [
        ""
      ],
      "metadata": {
        "id": "KR024gE5A9Nv"
      },
      "execution_count": null,
      "outputs": []
    },
    {
      "cell_type": "code",
      "source": [
        ""
      ],
      "metadata": {
        "id": "ckEMtBoWA9Qy"
      },
      "execution_count": null,
      "outputs": []
    },
    {
      "cell_type": "markdown",
      "source": [
        "**Hyperparameter Tuning**"
      ],
      "metadata": {
        "id": "4UlRjMX5A9kl"
      }
    },
    {
      "cell_type": "code",
      "source": [
        "def encoder(hp):\n",
        "  inputs = Input(shape=(image_width, image_height, 3), name='encoder_input')  \n",
        "\n",
        "  x = Conv2D(filters=hp.Int('conv_1_filter', min_value=32, max_value=128, step=16),\n",
        "             kernel_size=hp.Choice('conv_1_kernel', values = [3,5]),\n",
        "             activation='relu',\n",
        "             strides=2, padding='same')(inputs)\n",
        "  \n",
        "  x = BatchNormalization()(x)\n",
        "\n",
        "  x = Conv2D(filters=hp.Int('conv_2_filter', min_value=64, max_value=128, step=16),\n",
        "             kernel_size=hp.Choice('conv_2_kernel', values = [3,5]),\n",
        "             activation='relu',\n",
        "             strides=2, padding='same')(x)\n",
        "  x = BatchNormalization()(x)\n",
        "  conv_shape = K.int_shape(x)\n",
        "  x = Flatten()(x)\n",
        "  x = Dense(16)(x)\n",
        "  x = BatchNormalization()(x)\n",
        "  mu = Dense(latent_dim, name='latent_mu')(x)\n",
        "  sigma = Dense(latent_dim, name='latent_sigma')(x)\n",
        "\n",
        "  # use reparameterization trick to push the sampling out as input\n",
        "  z  = Lambda(sample_z, output_shape=(latent_dim, ), name='z')([mu, sigma])\n",
        "\n",
        "\n",
        "  encoder = Model(inputs, [mu, sigma, z], name='encoder')\n",
        "  encoder.summary()\n",
        "  \n",
        "  # Defining decoder\n",
        "  d_i   = Input(shape=(latent_dim, ), name='decoder_input')\n",
        "  x     = Dense(conv_shape[1] * conv_shape[2] * conv_shape[3], activation='relu')(d_i)\n",
        "  x     = BatchNormalization()(x)\n",
        "  x     = Reshape((conv_shape[1], conv_shape[2], conv_shape[3]))(x)\n",
        "  cx    = Conv2DTranspose(16, (3, 3), strides=2, padding='same', activation='relu')(x)\n",
        "  cx    = BatchNormalization()(cx)\n",
        "  cx    = Conv2DTranspose(8, (3, 3), strides=2, padding='same',  activation='relu')(cx)\n",
        "  cx    = BatchNormalization()(cx)\n",
        "  o     = Conv2DTranspose(3, (3, 3), activation='sigmoid', padding='same', name='decoder_output')(cx)\n",
        "\n",
        "  # Instantiate decoder\n",
        "  decoder = Model(d_i, o, name='decoder')\n",
        "  decoder.summary()\n",
        "\n",
        "  # Build VAE model\n",
        "  outputs = decoder(encoder(inputs)[2])\n",
        "  vae = Model(inputs, outputs, name='vae')\n",
        "  vae.summary()\n",
        "\n",
        "  vae.compile(optimizer='adam', loss=vae_loss)\n",
        "  return vae\n"
      ],
      "metadata": {
        "id": "7lD4VdM5BBKl"
      },
      "execution_count": null,
      "outputs": []
    },
    {
      "cell_type": "code",
      "source": [
        "tuner_search=RandomSearch(build_model,\n",
        "                          objective='val_acc',\n",
        "                          max_trials=5,directory='/content/output3',project_name=\"FaceToSketch\")\n"
      ],
      "metadata": {
        "id": "a81JFG_tz5iE"
      },
      "execution_count": null,
      "outputs": []
    },
    {
      "cell_type": "code",
      "source": [
        "tuner_search.search(train_sketch_image,train_image,epochs=500,validation_split=0.1, validation_data=(test_sketch_image, test_image))"
      ],
      "metadata": {
        "id": "XYU2wZIDzxJp"
      },
      "execution_count": null,
      "outputs": []
    },
    {
      "cell_type": "code",
      "source": [
        "model=tuner_search.get_best_models(num_models=1)[0]\n",
        "model.summary()"
      ],
      "metadata": {
        "id": "hlp8nRvf4Csl"
      },
      "execution_count": null,
      "outputs": []
    },
    {
      "cell_type": "code",
      "source": [
        "random_chars = [np.random.normal(0, 1, latent_dim) for _ in range(1)]\n",
        "imgs = []\n",
        "for char in random_chars:\n",
        "    char = char.reshape(-1,2)\n",
        "    imgs.append(model.predict(char))\n",
        "\n",
        "imgs = [np.reshape(img,(image_width, image_height, 3)) for img in imgs]\n",
        "for img in imgs:\n",
        "    plt.figure(figsize=(2,2))\n",
        "    plt.axis('off')\n",
        "    plt.imshow(img, cmap='gray')"
      ],
      "metadata": {
        "id": "H77pf0R-4Ucf"
      },
      "execution_count": null,
      "outputs": []
    }
  ]
}